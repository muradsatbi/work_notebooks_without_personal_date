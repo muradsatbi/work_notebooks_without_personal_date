{
 "cells": [
  {
   "cell_type": "code",
   "execution_count": null,
   "id": "24b84c23",
   "metadata": {},
   "outputs": [],
   "source": [
    "import os\n",
    "import pandas as pd\n",
    "import datetime as dt\n",
    "import shutil"
   ]
  },
  {
   "cell_type": "code",
   "execution_count": null,
   "id": "01a8c7b6",
   "metadata": {},
   "outputs": [],
   "source": [
    "# получим директорию папки \"Загрузки\" в системе\n",
    "from pathlib import Path\n",
    "downloads_path = str(Path.home() / \"Downloads\")"
   ]
  },
  {
   "cell_type": "code",
   "execution_count": null,
   "id": "69499d30",
   "metadata": {},
   "outputs": [],
   "source": [
    "# конечная папка для выгрузки ЕМИАС данных\n",
    "# вставляем между кавычек путь к этой папке на своем компьютере\n",
    "data_emias_xlsx_path = r'\\\\t999\\Сетевой диск\\pdn\\data\\emias_data\\xlsx'"
   ]
  },
  {
   "cell_type": "code",
   "execution_count": null,
   "id": "f90d1ccd",
   "metadata": {},
   "outputs": [],
   "source": [
    "data_emias_xlsx_path = data_emias_xlsx_path.split('\\\\')\n",
    "data_emias_xlsx_path = os.path.join(r'\\\\', *data_emias_xlsx_path)"
   ]
  },
  {
   "cell_type": "code",
   "execution_count": null,
   "id": "48dbeac4",
   "metadata": {},
   "outputs": [],
   "source": [
    "# конечная папка для выгрузки данных по звонкам\n",
    "# вставляем между кавычек путь к этой папке на своем компьютере\n",
    "data_calls_data_path = r'\\\\t999\\Сетевой диск\\pdn\\data\\from_call_program'"
   ]
  },
  {
   "cell_type": "code",
   "execution_count": null,
   "id": "f790d9c0",
   "metadata": {},
   "outputs": [],
   "source": [
    "data_calls_data_path = data_calls_data_path.split('\\\\')\n",
    "data_calls_data_path = os.path.join(r'\\\\', *data_calls_data_path)"
   ]
  },
  {
   "cell_type": "code",
   "execution_count": null,
   "id": "adb3fcb4",
   "metadata": {},
   "outputs": [],
   "source": [
    "today = dt.datetime.today().date()\n",
    "\n",
    "for file in os.listdir(downloads_path):\n",
    "    if '.xlsx' in file:\n",
    "        initial_file_path = os.path.join(downloads_path, file)\n",
    "        if 'DAT' in  file and today.strftime('%Y-%m-%d') in file:\n",
    "            final_file_path = os.path.join(data_emias_xlsx_path, f'{file[:58]}.xlsx')\n",
    "            shutil.move(initial_file_path, final_file_path)\n",
    "        elif f'Отчет помощник ПДН {today.strftime(\"%d.%m.%Y\")}' in file and pd.read_excel(os.path. \\\n",
    "        join(downloads_path, file))['Дата и время звонка'].min()[:10] == today.strftime(\"%d.%m.%Y\"):  \n",
    "            final_file_path = os.path.join(data_calls_data_path, f'calls_data_{today.strftime(\"%Y%m%d\")}.xlsx')\n",
    "            shutil.move(initial_file_path, final_file_path)"
   ]
  },
  {
   "cell_type": "code",
   "execution_count": null,
   "id": "97ebb880",
   "metadata": {},
   "outputs": [],
   "source": [
    "exit()"
   ]
  }
 ],
 "metadata": {
  "kernelspec": {
   "display_name": "Python 3 (ipykernel)",
   "language": "python",
   "name": "python3"
  },
  "language_info": {
   "codemirror_mode": {
    "name": "ipython",
    "version": 3
   },
   "file_extension": ".py",
   "mimetype": "text/x-python",
   "name": "python",
   "nbconvert_exporter": "python",
   "pygments_lexer": "ipython3",
   "version": "3.10.4"
  }
 },
 "nbformat": 4,
 "nbformat_minor": 5
}

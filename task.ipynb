{
 "cells": [
  {
   "cell_type": "code",
   "execution_count": 1,
   "id": "e4ecbf36",
   "metadata": {},
   "outputs": [],
   "source": [
    "import sys\n",
    "path_to_pdn = r\"\\\\t999\\Сетевой диск\\pdn_\"\n",
    "# сюда внутри кавычек вставляем путь, где ледит репозиторий пдн\n",
    "sys.path.insert(0, path_to_pdn)"
   ]
  },
  {
   "cell_type": "code",
   "execution_count": 2,
   "id": "08224ac4",
   "metadata": {},
   "outputs": [],
   "source": [
    "import os\n",
    "import pandas as pd\n",
    "import datetime as dt\n",
    "import numpy as np\n",
    "from pdn.download_data.download_calls_data import download_calls_data"
   ]
  },
  {
   "cell_type": "code",
   "execution_count": 3,
   "id": "280bde91",
   "metadata": {},
   "outputs": [],
   "source": [
    "# путь файла с текущими статусами пациентов\n",
    "patient_current_statuses_path = r''\n",
    "patient_current_statuses_path = patient_current_statuses_path.split('\\\\')\n",
    "patient_current_statuses_path = os.path.join(r'\\\\', *patient_current_statuses_path)"
   ]
  },
  {
   "cell_type": "code",
   "execution_count": 4,
   "id": "7390cc15",
   "metadata": {},
   "outputs": [],
   "source": [
    "# путь папки с данными по распределению помощников врачей по врачам\n",
    "assistant_to_doctor_distribution_path = r''\n",
    "assistant_to_doctor_distribution_path = assistant_to_doctor_distribution_path.split('\\\\')\n",
    "assistant_to_doctor_distribution_path = os.path.join(r'\\\\', *assistant_to_doctor_distribution_path)"
   ]
  },
  {
   "cell_type": "code",
   "execution_count": 5,
   "id": "dcde8b06",
   "metadata": {},
   "outputs": [],
   "source": [
    "# путь папки с данными по звонкам\n",
    "calls_data_path = r'\\\\t999\\Сетевой диск\\pdn\\data\\from_call_program'\n",
    "calls_data_path = calls_data_path.split('\\\\')\n",
    "calls_data_path = os.path.join(r'\\\\', *calls_data_path)"
   ]
  },
  {
   "cell_type": "code",
   "execution_count": 6,
   "id": "c77b7c1a",
   "metadata": {},
   "outputs": [],
   "source": [
    "# путь папки с данными по распределению помощников врачей по врачам\n",
    "present_assistants_path = r''\n",
    "present_assistants_path = present_assistants_path.split('\\\\')\n",
    "present_assistants_path = os.path.join(r'\\\\', *present_assistants_path)"
   ]
  },
  {
   "cell_type": "code",
   "execution_count": 7,
   "id": "e9db92bb",
   "metadata": {},
   "outputs": [],
   "source": [
    "# путь папки для кратковременных несистемных исключений\n",
    "temporary_exception_path = r''\n",
    "temporary_exception_path = temporary_exception_path.split('\\\\')\n",
    "temporary_exception_path = os.path.join(r'\\\\', *temporary_exception_path)"
   ]
  },
  {
   "cell_type": "code",
   "execution_count": 8,
   "id": "7785215f",
   "metadata": {},
   "outputs": [],
   "source": [
    "# путь папки для кратковременных несистемных исключений\n",
    "temporary_inclusion_path = r''\n",
    "temporary_inclusion_path = temporary_inclusion_path.split('\\\\')\n",
    "temporary_inclusion_path = os.path.join(r'\\\\', *temporary_inclusion_path)"
   ]
  },
  {
   "cell_type": "code",
   "execution_count": 152,
   "id": "e13da0e2",
   "metadata": {},
   "outputs": [],
   "source": [
    "# cловарь \"номер_dat\": \"месяц\", в который мы добавляем список месяцев, которые сейчас в работе\n",
    "\n",
    "dat_month = dict()\n",
    "\n",
    "# dat_month['may'] = '3196'\n",
    "# dat_month['june'] = '3437'\n",
    "# dat_month['july'] = '3582'\n",
    "# dat_month['august'] = '3833'\n",
    "dat_month['august_'] = '3940'"
   ]
  },
  {
   "cell_type": "code",
   "execution_count": 153,
   "id": "e54b91ab",
   "metadata": {},
   "outputs": [],
   "source": [
    "today = pd.Timestamp(dt.datetime.today().date())\n",
    "\n",
    "today_ymd = today.strftime('%Y%m%d')\n",
    "today_y_m_d = today.strftime('%Y_%m_%d')\n",
    "\n",
    "yesterday = today - dt.timedelta(days=1)\n",
    "\n",
    "yesterday_ymd = yesterday.strftime('%Y%m%d')\n",
    "yesterday_y_m_d = yesterday.strftime('%Y-%m-%d')"
   ]
  },
  {
   "cell_type": "code",
   "execution_count": 154,
   "id": "29d26d9d",
   "metadata": {},
   "outputs": [],
   "source": [
    "# формируем даты, которые являются рабочими днями циклов\n",
    "\n",
    "stages = dict()\n",
    "\n",
    "stages[1] = pd.date_range('20220802', '20220810')\n",
    "stages[2] = pd.date_range('20220811', '20220819')\n",
    "stages[3] = pd.date_range('20220820', '20220831')\n",
    "\n",
    "stages_and_days = dict()\n",
    "\n",
    "for stage, dates in stages.items():\n",
    "    \n",
    "    stage_day_number = 0\n",
    "    \n",
    "    for weekday in [x.date() for x in dates if not x.day_name() in {'Saturday', 'Sunday'} ]:\n",
    "        stages_and_days[weekday] = dict()\n",
    "        stages_and_days[weekday]['stage'] = stage\n",
    "        stage_day_number += 1\n",
    "        stages_and_days[weekday]['stage_day'] = stage_day_number\\\n",
    "        \n",
    "stages_df = pd.DataFrame(stages_and_days).T.reset_index()"
   ]
  },
  {
   "cell_type": "code",
   "execution_count": 155,
   "id": "73d49c61",
   "metadata": {},
   "outputs": [],
   "source": [
    "column_names = {'Emiasid': 'emiasid', 'Emiasid ': 'emiasid' , 'emiasid ': 'emiasid', 'EMIAS_ID': 'emiasid', 'МО': 'mo', \n",
    "                'МУ': 'mu', 'Логин оператора': 'login', 'Дата и время звонка': 'call_date', 'Результат звонка': 'call_result',\n",
    "                'Результат звонка ': 'call_result', 'Разговор состоялся': 'talk_result', 'Комменатрий': 'comment', \n",
    "                'Дата и время переноса': 'next_call_date', 'Контактный телефон': 'phone_number', 'ФИО врача': 'doctor_fio', \n",
    "                'ФИО помощника врача': 'assistant_fio', 'Логин помощника врача': 'login', 'Зал №': 'hall_number',\n",
    "                'Логин naumen': 'login', 'МО закрепления': 'mo', 'Отсутствует на рабочем месте': 'absence'}"
   ]
  },
  {
   "cell_type": "code",
   "execution_count": 156,
   "id": "d4b4371a",
   "metadata": {},
   "outputs": [],
   "source": [
    "mo_list = {'ГП 64', 'ГП 191', 'ДКЦ 1', 'КДЦ 4', 'ДЦ 5', 'ГП 2', 'ГП 210', 'ГП 107', 'ГП 23', 'ГП 66', 'ДЦ 3', 'ГП 170', \n",
    "           'ГП 22', 'КДП 121', 'КДЦ 6', 'ГП 214', 'ГП 218', 'ГП 109', 'ГП 134', 'ГП 36', 'ГП 6', 'ГП 220', 'ГП 11'}"
   ]
  },
  {
   "cell_type": "code",
   "execution_count": null,
   "id": "f15af4c3",
   "metadata": {},
   "outputs": [],
   "source": []
  },
  {
   "cell_type": "code",
   "execution_count": 160,
   "id": "6c68e0ee",
   "metadata": {},
   "outputs": [],
   "source": [
    "patient_current_statuses_path = rf'august__patients_current_statuses_{today_y_m_d}.xlsx'\n",
    "\n",
    "# temporary_inclusion_path = 'можно_включать_в_обзвон_5_августа.xlsx'\n",
    "\n",
    "calls_data_path = 'calls_data_20220802_20220815.xlsx'\n",
    "\n",
    "assistant_to_doctor_distribution_path = 'Основное Раскрепление Август.xlsx'\n",
    "\n",
    "# assistants_presence_path = 'Список ПВ для формирования задания.xlsx'"
   ]
  },
  {
   "cell_type": "code",
   "execution_count": null,
   "id": "4ade4854",
   "metadata": {},
   "outputs": [],
   "source": []
  },
  {
   "cell_type": "code",
   "execution_count": 161,
   "id": "f8ea1c1b",
   "metadata": {
    "scrolled": false
   },
   "outputs": [
    {
     "name": "stdout",
     "output_type": "stream",
     "text": [
      "CPU times: total: 23.2 s\n",
      "Wall time: 23.3 s\n"
     ]
    }
   ],
   "source": [
    "%%time\n",
    "\n",
    "patients_current_statuses_reading = pd.read_excel(patient_current_statuses_path)\n",
    "\n",
    "\n",
    "# temporary_inclusion_reading = pd.read_excel(temporary_inclusion_path, usecols=['EMIAS_ID'])\n",
    "\n",
    "\n",
    "calls_data_reading = pd.read_excel(calls_data_path)\n",
    "\n",
    "\n",
    "assistant_to_doctor_distribution_reading = pd.read_excel(assistant_to_doctor_distribution_path)\n",
    "\n",
    "# assistants_presence_reading = pd.read_excel(assistants_presence_path)\n",
    "\n",
    "# all_done_reading = pd.read_excel('all_done.xlsx')\n",
    "\n",
    "\n",
    "second_stage_patients_reading = pd.read_excel('second_stage_patients.xlsx')"
   ]
  },
  {
   "cell_type": "code",
   "execution_count": 19,
   "id": "b89d819a",
   "metadata": {},
   "outputs": [],
   "source": [
    "##  23.2 s"
   ]
  },
  {
   "cell_type": "code",
   "execution_count": 20,
   "id": "5e7ea2ac",
   "metadata": {},
   "outputs": [],
   "source": [
    "# как только получаем список ПВ на смене, перезапускаем эту ячейку и еще две, проверяем правильное количество отсуствующих ПВ\n",
    "# и идем вниз"
   ]
  },
  {
   "cell_type": "code",
   "execution_count": null,
   "id": "b2f641f9",
   "metadata": {},
   "outputs": [],
   "source": []
  },
  {
   "cell_type": "code",
   "execution_count": 162,
   "id": "4f9ef14f",
   "metadata": {},
   "outputs": [],
   "source": [
    "patients_current_statuses = \\\n",
    "patients_current_statuses_reading[['emiasid', 'date', 'status', 'old_comment', 'next_call_date',\n",
    "       'doctor_fio', 'mo']].copy()\n",
    "\n",
    "\n",
    "# temporary_inclusion = temporary_inclusion_reading.rename(columns=column_names).copy()\n",
    "\n",
    "\n",
    "calls_data = calls_data_reading.rename(columns=column_names).copy()\n",
    "\n",
    "\n",
    "assistant_to_doctor_distribution = assistant_to_doctor_distribution_reading.rename(columns=column_names)[['mo', 'doctor_fio', \n",
    "'assistant_fio', 'login']].copy()\n",
    "\n",
    "second_stage_patients = second_stage_patients_reading.copy()\n",
    "\n",
    "# all_done = all_done_reading.copy()"
   ]
  },
  {
   "cell_type": "code",
   "execution_count": null,
   "id": "385f4a86",
   "metadata": {},
   "outputs": [],
   "source": []
  },
  {
   "cell_type": "code",
   "execution_count": 163,
   "id": "94f88463",
   "metadata": {},
   "outputs": [],
   "source": [
    "second_stage_calls_amount = \\\n",
    "second_stage_patients.groupby(by='emiasid').agg({'date': 'count'}).reset_index().sort_values(by='date', ascending=False)"
   ]
  },
  {
   "cell_type": "code",
   "execution_count": 164,
   "id": "e32f07ea",
   "metadata": {},
   "outputs": [
    {
     "data": {
      "text/html": [
       "<div>\n",
       "<style scoped>\n",
       "    .dataframe tbody tr th:only-of-type {\n",
       "        vertical-align: middle;\n",
       "    }\n",
       "\n",
       "    .dataframe tbody tr th {\n",
       "        vertical-align: top;\n",
       "    }\n",
       "\n",
       "    .dataframe thead th {\n",
       "        text-align: right;\n",
       "    }\n",
       "</style>\n",
       "<table border=\"1\" class=\"dataframe\">\n",
       "  <thead>\n",
       "    <tr style=\"text-align: right;\">\n",
       "      <th></th>\n",
       "      <th>emiasid</th>\n",
       "      <th>date</th>\n",
       "      <th>status</th>\n",
       "      <th>old_comment</th>\n",
       "      <th>next_call_date</th>\n",
       "      <th>mo</th>\n",
       "      <th>login</th>\n",
       "    </tr>\n",
       "  </thead>\n",
       "  <tbody>\n",
       "    <tr>\n",
       "      <th>0</th>\n",
       "      <td>18498110</td>\n",
       "      <td>2022-08-11</td>\n",
       "      <td>Не дозвонились</td>\n",
       "      <td>NaN</td>\n",
       "      <td>NaT</td>\n",
       "      <td>ГП 6</td>\n",
       "      <td>pomoshnik_pdn96</td>\n",
       "    </tr>\n",
       "    <tr>\n",
       "      <th>1</th>\n",
       "      <td>10468714</td>\n",
       "      <td>2022-08-11</td>\n",
       "      <td>Не дозвонились</td>\n",
       "      <td>NaN</td>\n",
       "      <td>NaT</td>\n",
       "      <td>ГП 6</td>\n",
       "      <td>pomoshnik_pdn96</td>\n",
       "    </tr>\n",
       "    <tr>\n",
       "      <th>2</th>\n",
       "      <td>20957244</td>\n",
       "      <td>2022-08-11</td>\n",
       "      <td>Не дозвонились</td>\n",
       "      <td>NaN</td>\n",
       "      <td>NaT</td>\n",
       "      <td>ГП 6</td>\n",
       "      <td>pomoshnik_pdn96</td>\n",
       "    </tr>\n",
       "    <tr>\n",
       "      <th>3</th>\n",
       "      <td>10127192</td>\n",
       "      <td>2022-08-11</td>\n",
       "      <td>Не дозвонились</td>\n",
       "      <td>NaN</td>\n",
       "      <td>NaT</td>\n",
       "      <td>ГП 6</td>\n",
       "      <td>pomoshnik_pdn96</td>\n",
       "    </tr>\n",
       "    <tr>\n",
       "      <th>4</th>\n",
       "      <td>24406315</td>\n",
       "      <td>2022-08-11</td>\n",
       "      <td>Не дозвонились</td>\n",
       "      <td>NaN</td>\n",
       "      <td>NaT</td>\n",
       "      <td>ГП 6</td>\n",
       "      <td>pomoshnik_pdn96</td>\n",
       "    </tr>\n",
       "    <tr>\n",
       "      <th>...</th>\n",
       "      <td>...</td>\n",
       "      <td>...</td>\n",
       "      <td>...</td>\n",
       "      <td>...</td>\n",
       "      <td>...</td>\n",
       "      <td>...</td>\n",
       "      <td>...</td>\n",
       "    </tr>\n",
       "    <tr>\n",
       "      <th>18471</th>\n",
       "      <td>28683589</td>\n",
       "      <td>2022-08-15</td>\n",
       "      <td>Не дозвонились</td>\n",
       "      <td>NaN</td>\n",
       "      <td>NaT</td>\n",
       "      <td>ГП 220</td>\n",
       "      <td>pomoshnik_pdn35</td>\n",
       "    </tr>\n",
       "    <tr>\n",
       "      <th>18472</th>\n",
       "      <td>30140586</td>\n",
       "      <td>2022-08-15</td>\n",
       "      <td>Не дозвонились</td>\n",
       "      <td>NaN</td>\n",
       "      <td>NaT</td>\n",
       "      <td>ГП 220</td>\n",
       "      <td>pomoshnik_pdn35</td>\n",
       "    </tr>\n",
       "    <tr>\n",
       "      <th>18473</th>\n",
       "      <td>30784142</td>\n",
       "      <td>2022-08-15</td>\n",
       "      <td>Не дозвонились</td>\n",
       "      <td>NaN</td>\n",
       "      <td>NaT</td>\n",
       "      <td>ГП 220</td>\n",
       "      <td>pomoshnik_pdn35</td>\n",
       "    </tr>\n",
       "    <tr>\n",
       "      <th>18474</th>\n",
       "      <td>28282873</td>\n",
       "      <td>2022-08-15</td>\n",
       "      <td>Не дозвонились</td>\n",
       "      <td>NaN</td>\n",
       "      <td>NaT</td>\n",
       "      <td>ГП 220</td>\n",
       "      <td>pomoshnik_pdn35</td>\n",
       "    </tr>\n",
       "    <tr>\n",
       "      <th>18475</th>\n",
       "      <td>28046297</td>\n",
       "      <td>2022-08-15</td>\n",
       "      <td>Не дозвонились</td>\n",
       "      <td>NaN</td>\n",
       "      <td>NaT</td>\n",
       "      <td>ГП 220</td>\n",
       "      <td>pomoshnik_pdn35</td>\n",
       "    </tr>\n",
       "  </tbody>\n",
       "</table>\n",
       "<p>18476 rows × 7 columns</p>\n",
       "</div>"
      ],
      "text/plain": [
       "        emiasid       date          status old_comment next_call_date      mo  \\\n",
       "0      18498110 2022-08-11  Не дозвонились         NaN            NaT    ГП 6   \n",
       "1      10468714 2022-08-11  Не дозвонились         NaN            NaT    ГП 6   \n",
       "2      20957244 2022-08-11  Не дозвонились         NaN            NaT    ГП 6   \n",
       "3      10127192 2022-08-11  Не дозвонились         NaN            NaT    ГП 6   \n",
       "4      24406315 2022-08-11  Не дозвонились         NaN            NaT    ГП 6   \n",
       "...         ...        ...             ...         ...            ...     ...   \n",
       "18471  28683589 2022-08-15  Не дозвонились         NaN            NaT  ГП 220   \n",
       "18472  30140586 2022-08-15  Не дозвонились         NaN            NaT  ГП 220   \n",
       "18473  30784142 2022-08-15  Не дозвонились         NaN            NaT  ГП 220   \n",
       "18474  28282873 2022-08-15  Не дозвонились         NaN            NaT  ГП 220   \n",
       "18475  28046297 2022-08-15  Не дозвонились         NaN            NaT  ГП 220   \n",
       "\n",
       "                 login  \n",
       "0      pomoshnik_pdn96  \n",
       "1      pomoshnik_pdn96  \n",
       "2      pomoshnik_pdn96  \n",
       "3      pomoshnik_pdn96  \n",
       "4      pomoshnik_pdn96  \n",
       "...                ...  \n",
       "18471  pomoshnik_pdn35  \n",
       "18472  pomoshnik_pdn35  \n",
       "18473  pomoshnik_pdn35  \n",
       "18474  pomoshnik_pdn35  \n",
       "18475  pomoshnik_pdn35  \n",
       "\n",
       "[18476 rows x 7 columns]"
      ]
     },
     "execution_count": 164,
     "metadata": {},
     "output_type": "execute_result"
    }
   ],
   "source": [
    "second_stage_patients"
   ]
  },
  {
   "cell_type": "code",
   "execution_count": null,
   "id": "5a7336dd",
   "metadata": {},
   "outputs": [],
   "source": []
  },
  {
   "cell_type": "code",
   "execution_count": null,
   "id": "431b788f",
   "metadata": {},
   "outputs": [],
   "source": []
  },
  {
   "cell_type": "code",
   "execution_count": 165,
   "id": "a615491b",
   "metadata": {},
   "outputs": [],
   "source": [
    "doctors_list = set(assistant_to_doctor_distribution.doctor_fio.unique())\n",
    "doctors_list.add(np.NaN)"
   ]
  },
  {
   "cell_type": "code",
   "execution_count": 166,
   "id": "fb92d203",
   "metadata": {},
   "outputs": [
    {
     "name": "stderr",
     "output_type": "stream",
     "text": [
      "C:\\Users\\murad_satabaev\\AppData\\Local\\Temp\\ipykernel_4772\\3427605406.py:1: FutureWarning: The default value of regex will change from True to False in a future version.\n",
      "  patients_current_statuses['emiasid'] = patients_current_statuses['emiasid'].astype(str).str.replace('\\.0', '')\n",
      "C:\\Users\\murad_satabaev\\AppData\\Local\\Temp\\ipykernel_4772\\3427605406.py:3: FutureWarning: The default value of regex will change from True to False in a future version.\n",
      "  calls_data['emiasid'] = calls_data['emiasid'].astype(str).str.replace('\\.0', '')\n",
      "C:\\Users\\murad_satabaev\\AppData\\Local\\Temp\\ipykernel_4772\\3427605406.py:4: FutureWarning: The default value of regex will change from True to False in a future version.\n",
      "  second_stage_patients['emiasid'] = second_stage_patients['emiasid'].astype(str).str.replace('\\.0', '')\n"
     ]
    }
   ],
   "source": [
    "patients_current_statuses['emiasid'] = patients_current_statuses['emiasid'].astype(str).str.replace('\\.0', '')\n",
    "# temporary_inclusion['emiasid'] = temporary_inclusion['emiasid'].astype(str).str.replace('\\.0', '')\n",
    "calls_data['emiasid'] = calls_data['emiasid'].astype(str).str.replace('\\.0', '')\n",
    "second_stage_patients['emiasid'] = second_stage_patients['emiasid'].astype(str).str.replace('\\.0', '')"
   ]
  },
  {
   "cell_type": "code",
   "execution_count": 167,
   "id": "c044b79a",
   "metadata": {},
   "outputs": [],
   "source": [
    "patients_current_statuses['date'] = patients_current_statuses['date'].apply(lambda x: pd.to_datetime(x).date())\n",
    "patients_current_statuses['next_call_date'] = patients_current_statuses['next_call_date'] \\\n",
    ".apply(lambda x: pd.to_datetime(x).date())"
   ]
  },
  {
   "cell_type": "code",
   "execution_count": 168,
   "id": "7c6850ff",
   "metadata": {},
   "outputs": [],
   "source": [
    "patients_current_statuses = patients_current_statuses[~patients_current_statuses.doctor_fio.isna()]"
   ]
  },
  {
   "cell_type": "code",
   "execution_count": 169,
   "id": "eb400142",
   "metadata": {},
   "outputs": [
    {
     "data": {
      "text/plain": [
       "141"
      ]
     },
     "execution_count": 169,
     "metadata": {},
     "output_type": "execute_result"
    }
   ],
   "source": [
    "assistant_to_doctor_distribution.login.nunique()"
   ]
  },
  {
   "cell_type": "code",
   "execution_count": 170,
   "id": "66ae88ba",
   "metadata": {},
   "outputs": [],
   "source": [
    "actual_patients_for_task = patients_current_statuses"
   ]
  },
  {
   "cell_type": "code",
   "execution_count": null,
   "id": "d196fcd9",
   "metadata": {},
   "outputs": [],
   "source": [
    "# actual_patients_for_task = \\\n",
    "# actual_patients_for_task[\n",
    "    \n",
    "#     (\n",
    "#         (actual_patients_for_task.mo.isin(still_big_task_mo_list)) & \n",
    "#      (actual_patients_for_task.status == 'Ни разу не звонили'))\n",
    "     \n",
    "#     |\n",
    "    \n",
    "#     ((~actual_patients_for_task.mo.isin(still_big_task_mo_list)) & (actual_patients_for_task.status.isin({\n",
    "#         'Не дозвонились', 'Госпитализирован', 'Отказ', 'Другой врач в этой МО', 'Не нравится МО', 'Не нравится врач'})) \n",
    "#      & (~actual_patients_for_task.emiasid.isin(second_stage_patients.emiasid)))\n",
    "# ]"
   ]
  },
  {
   "cell_type": "code",
   "execution_count": 172,
   "id": "0940ae8a",
   "metadata": {},
   "outputs": [],
   "source": [
    "first_stage_patients_for_task = \\\n",
    "actual_patients_for_task[actual_patients_for_task.status == 'Ни разу не звонили']\n",
    "     "
   ]
  },
  {
   "cell_type": "code",
   "execution_count": 173,
   "id": "fd37399d",
   "metadata": {},
   "outputs": [],
   "source": [
    "first_stage_patients_for_task = first_stage_patients_for_task.reset_index(drop=True)\n",
    "first_stage_patients_for_task['priority'] = '1'"
   ]
  },
  {
   "cell_type": "code",
   "execution_count": 174,
   "id": "3d3432c0",
   "metadata": {},
   "outputs": [],
   "source": [
    "second_stage_patients_for_task = actual_patients_for_task[\n",
    "    (actual_patients_for_task.status.isin(\n",
    "        {'Не дозвонились', 'Госпитализирован', 'Отказ', 'Другой врач в этой МО', 'Не нравится МО', 'Не нравится врач'}))\n",
    "     &\n",
    "    (~actual_patients_for_task.emiasid.isin(second_stage_patients.emiasid))]"
   ]
  },
  {
   "cell_type": "code",
   "execution_count": 176,
   "id": "d0d7f46c",
   "metadata": {},
   "outputs": [],
   "source": [
    "second_stage_patients_for_task = second_stage_patients_for_task.reset_index(drop=True)\n",
    "second_stage_patients_for_task['priority'] = '4'"
   ]
  },
  {
   "cell_type": "code",
   "execution_count": 177,
   "id": "76ea2a54",
   "metadata": {
    "scrolled": true
   },
   "outputs": [],
   "source": [
    "# actual_patients_for_task = actual_patients_for_task.reset_index(drop=True)\n",
    "# actual_patients_for_task['priority'] = '3'"
   ]
  },
  {
   "cell_type": "code",
   "execution_count": 178,
   "id": "7d213f3f",
   "metadata": {
    "scrolled": true
   },
   "outputs": [
    {
     "name": "stderr",
     "output_type": "stream",
     "text": [
      "C:\\Users\\murad_satabaev\\anaconda3\\envs\\pdn\\lib\\site-packages\\pandas\\core\\ops\\array_ops.py:73: FutureWarning: Comparison of Timestamp with datetime.date is deprecated in order to match the standard library behavior. In a future version these will be considered non-comparable. Use 'ts == pd.Timestamp(date)' or 'ts.date() == date' instead.\n",
      "  result = libops.scalar_compare(x.ravel(), y, op)\n"
     ]
    }
   ],
   "source": [
    "if today.day_name() == 'Monday':\n",
    "    \n",
    "    last_friday = (today - dt.timedelta(3)).date()\n",
    "    \n",
    "    call_back_today_patients = patients_current_statuses[\n",
    "    (patients_current_statuses.status == 'Перезвонить сегодня') & \n",
    "    (patients_current_statuses.next_call_date == last_friday)]  \n",
    "    \n",
    "    call_back_on_date_patients = patients_current_statuses[\n",
    "    (patients_current_statuses.status == 'Перенос звонка на другой день') \n",
    "    & patients_current_statuses.next_call_date.isin(\n",
    "    [x.date() for x in pd.date_range((today - dt.timedelta(2)).date(), today)])]\n",
    "    \n",
    "else:\n",
    "    \n",
    "    call_back_today_patients = patients_current_statuses[\n",
    "    (patients_current_statuses.status == 'Перезвонить сегодня') & \n",
    "    (patients_current_statuses.next_call_date == yesterday)]\n",
    "    \n",
    "    call_back_on_date_patients = patients_current_statuses[\n",
    "    (patients_current_statuses.status == 'Перенос звонка на другой день') & \n",
    "    (patients_current_statuses.next_call_date == today)]\n",
    "    "
   ]
  },
  {
   "cell_type": "code",
   "execution_count": 179,
   "id": "34b3f1a3",
   "metadata": {
    "scrolled": true
   },
   "outputs": [],
   "source": [
    "call_back_today_patients = call_back_today_patients.reset_index(drop=True)\n",
    "call_back_today_patients['priority'] = '2' "
   ]
  },
  {
   "cell_type": "code",
   "execution_count": 180,
   "id": "a8233e30",
   "metadata": {},
   "outputs": [
    {
     "data": {
      "text/plain": [
       "0"
      ]
     },
     "execution_count": 180,
     "metadata": {},
     "output_type": "execute_result"
    }
   ],
   "source": [
    "call_back_today_patients.shape[0]"
   ]
  },
  {
   "cell_type": "code",
   "execution_count": 181,
   "id": "ff97c46e",
   "metadata": {},
   "outputs": [],
   "source": [
    "call_back_on_date_patients = call_back_on_date_patients.reset_index(drop=True)\n",
    "call_back_on_date_patients['priority'] = '3'"
   ]
  },
  {
   "cell_type": "code",
   "execution_count": 182,
   "id": "76867de6",
   "metadata": {},
   "outputs": [
    {
     "data": {
      "text/plain": [
       "0"
      ]
     },
     "execution_count": 182,
     "metadata": {},
     "output_type": "execute_result"
    }
   ],
   "source": [
    "call_back_on_date_patients.shape[0]"
   ]
  },
  {
   "cell_type": "code",
   "execution_count": 183,
   "id": "e4309b20",
   "metadata": {},
   "outputs": [],
   "source": [
    "still_big_task_mo_list = {'ГП 11', 'ГП 210', 'КДЦ 4'}"
   ]
  },
  {
   "cell_type": "code",
   "execution_count": 184,
   "id": "97f5f0d6",
   "metadata": {},
   "outputs": [],
   "source": [
    "final_actual_patients_for_task = pd.concat([\n",
    "    first_stage_patients_for_task,\n",
    "    call_back_today_patients, \n",
    "    call_back_on_date_patients,\n",
    "    second_stage_patients_for_task]) \\\n",
    ".sort_values(by='priority').reset_index(drop=True)"
   ]
  },
  {
   "cell_type": "code",
   "execution_count": 185,
   "id": "1a5762d6",
   "metadata": {},
   "outputs": [
    {
     "data": {
      "text/plain": [
       "1404"
      ]
     },
     "execution_count": 185,
     "metadata": {},
     "output_type": "execute_result"
    }
   ],
   "source": [
    "final_actual_patients_for_task.shape[0]"
   ]
  },
  {
   "cell_type": "code",
   "execution_count": 186,
   "id": "b1babcae",
   "metadata": {
    "scrolled": true
   },
   "outputs": [
    {
     "data": {
      "text/plain": [
       "Ни разу не звонили    1403\n",
       "Не дозвонились           1\n",
       "Name: status, dtype: int64"
      ]
     },
     "execution_count": 186,
     "metadata": {},
     "output_type": "execute_result"
    }
   ],
   "source": [
    "final_actual_patients_for_task.status.value_counts()"
   ]
  },
  {
   "cell_type": "code",
   "execution_count": 187,
   "id": "9e1eb7d7",
   "metadata": {},
   "outputs": [],
   "source": [
    "final_actual_patients_for_task = final_actual_patients_for_task[['emiasid', 'date', 'status', 'old_comment', 'next_call_date',\n",
    "       'doctor_fio', 'mo', 'priority']]"
   ]
  },
  {
   "cell_type": "code",
   "execution_count": 188,
   "id": "7d3e756b",
   "metadata": {
    "scrolled": true
   },
   "outputs": [],
   "source": [
    "initial_assistant_to_patient_distribution_in_today_task = \\\n",
    "final_actual_patients_for_task.merge(assistant_to_doctor_distribution, on=['doctor_fio', 'mo']).sort_values(by='priority')"
   ]
  },
  {
   "cell_type": "code",
   "execution_count": 189,
   "id": "ebb6703c",
   "metadata": {},
   "outputs": [
    {
     "data": {
      "text/plain": [
       "961"
      ]
     },
     "execution_count": 189,
     "metadata": {},
     "output_type": "execute_result"
    }
   ],
   "source": [
    "initial_assistant_to_patient_distribution_in_today_task.shape[0]"
   ]
  },
  {
   "cell_type": "code",
   "execution_count": 190,
   "id": "58fe555d",
   "metadata": {},
   "outputs": [
    {
     "name": "stdout",
     "output_type": "stream",
     "text": [
      "CPU times: total: 188 ms\n",
      "Wall time: 184 ms\n"
     ]
    }
   ],
   "source": [
    "%%time\n",
    "\n",
    "initial_task_for_today = pd.DataFrame()\n",
    "for login in set(initial_assistant_to_patient_distribution_in_today_task.login):\n",
    "    initial_assistant_to_patient_distribution_in_today_task_for_login = \\\n",
    "    initial_assistant_to_patient_distribution_in_today_task[initial_assistant_to_patient_distribution_in_today_task.login\n",
    "         == login]\n",
    "    call_back_number_for_login = initial_assistant_to_patient_distribution_in_today_task_for_login[\n",
    "        initial_assistant_to_patient_distribution_in_today_task_for_login.status.isin({\n",
    "            'Перезвонить сегодня', 'Перенос звонка на другой день'})].shape[0]\n",
    "\n",
    "    initial_task_for_today = pd.concat(\n",
    "        [initial_task_for_today, \n",
    "\n",
    "         initial_assistant_to_patient_distribution_in_today_task[\n",
    "             (initial_assistant_to_patient_distribution_in_today_task.login==login) \n",
    "             & (initial_assistant_to_patient_distribution_in_today_task.mo.isin(still_big_task_mo_list))\n",
    "         ].sort_values('priority').head((85 + call_back_number_for_login)),\n",
    "         \n",
    "         initial_assistant_to_patient_distribution_in_today_task[\n",
    "             (initial_assistant_to_patient_distribution_in_today_task.login==login) &\n",
    "             (~initial_assistant_to_patient_distribution_in_today_task.mo.isin(still_big_task_mo_list))\n",
    "         ].sort_values('priority').head(85),\n",
    "        \n",
    "       \n",
    "        ]).reset_index(drop=True)"
   ]
  },
  {
   "cell_type": "code",
   "execution_count": 191,
   "id": "01ad62b2",
   "metadata": {},
   "outputs": [
    {
     "data": {
      "text/html": [
       "<div>\n",
       "<style scoped>\n",
       "    .dataframe tbody tr th:only-of-type {\n",
       "        vertical-align: middle;\n",
       "    }\n",
       "\n",
       "    .dataframe tbody tr th {\n",
       "        vertical-align: top;\n",
       "    }\n",
       "\n",
       "    .dataframe thead th {\n",
       "        text-align: right;\n",
       "    }\n",
       "</style>\n",
       "<table border=\"1\" class=\"dataframe\">\n",
       "  <thead>\n",
       "    <tr style=\"text-align: right;\">\n",
       "      <th></th>\n",
       "      <th></th>\n",
       "      <th>emiasid</th>\n",
       "    </tr>\n",
       "    <tr>\n",
       "      <th>mo</th>\n",
       "      <th>login</th>\n",
       "      <th></th>\n",
       "    </tr>\n",
       "  </thead>\n",
       "  <tbody>\n",
       "    <tr>\n",
       "      <th>ДЦ 5</th>\n",
       "      <th>pomoshnik_pdn88</th>\n",
       "      <td>1</td>\n",
       "    </tr>\n",
       "    <tr>\n",
       "      <th rowspan=\"8\" valign=\"top\">ДКЦ 1</th>\n",
       "      <th>pomoshnik_pdn76</th>\n",
       "      <td>29</td>\n",
       "    </tr>\n",
       "    <tr>\n",
       "      <th>pomoshnik_pdn95</th>\n",
       "      <td>28</td>\n",
       "    </tr>\n",
       "    <tr>\n",
       "      <th>pomoshnik_pdn39</th>\n",
       "      <td>27</td>\n",
       "    </tr>\n",
       "    <tr>\n",
       "      <th>pomoshnik_pdn36</th>\n",
       "      <td>21</td>\n",
       "    </tr>\n",
       "    <tr>\n",
       "      <th>pomoshnik_pdn74</th>\n",
       "      <td>17</td>\n",
       "    </tr>\n",
       "    <tr>\n",
       "      <th>pomoshnik_pdn78</th>\n",
       "      <td>17</td>\n",
       "    </tr>\n",
       "    <tr>\n",
       "      <th>pomoshnik_pdn38</th>\n",
       "      <td>13</td>\n",
       "    </tr>\n",
       "    <tr>\n",
       "      <th>pomoshnik_pdn77</th>\n",
       "      <td>12</td>\n",
       "    </tr>\n",
       "    <tr>\n",
       "      <th>ГП 23</th>\n",
       "      <th>pomoshnik_pdn161</th>\n",
       "      <td>1</td>\n",
       "    </tr>\n",
       "    <tr>\n",
       "      <th rowspan=\"2\" valign=\"top\">ГП 220</th>\n",
       "      <th>pomoshnik_pdn73</th>\n",
       "      <td>25</td>\n",
       "    </tr>\n",
       "    <tr>\n",
       "      <th>pomoshnik_pdn35</th>\n",
       "      <td>20</td>\n",
       "    </tr>\n",
       "    <tr>\n",
       "      <th rowspan=\"6\" valign=\"top\">ГП 22</th>\n",
       "      <th>pomoshnik_pdn66</th>\n",
       "      <td>37</td>\n",
       "    </tr>\n",
       "    <tr>\n",
       "      <th>pomoshnik_pdn203</th>\n",
       "      <td>32</td>\n",
       "    </tr>\n",
       "    <tr>\n",
       "      <th>pomoshnik_pdn59</th>\n",
       "      <td>26</td>\n",
       "    </tr>\n",
       "    <tr>\n",
       "      <th>pomoshnik_pdn91</th>\n",
       "      <td>19</td>\n",
       "    </tr>\n",
       "    <tr>\n",
       "      <th>pomoshnik_pdn64</th>\n",
       "      <td>13</td>\n",
       "    </tr>\n",
       "    <tr>\n",
       "      <th>pomoshnik_pdn61</th>\n",
       "      <td>9</td>\n",
       "    </tr>\n",
       "    <tr>\n",
       "      <th rowspan=\"11\" valign=\"top\">ГП 218</th>\n",
       "      <th>pomoshnik_pdn8</th>\n",
       "      <td>38</td>\n",
       "    </tr>\n",
       "    <tr>\n",
       "      <th>pomoshnik_pdn31</th>\n",
       "      <td>24</td>\n",
       "    </tr>\n",
       "    <tr>\n",
       "      <th>pomoshnik_pdn29</th>\n",
       "      <td>17</td>\n",
       "    </tr>\n",
       "    <tr>\n",
       "      <th>pomoshnik_pdn26</th>\n",
       "      <td>16</td>\n",
       "    </tr>\n",
       "    <tr>\n",
       "      <th>pomoshnik_pdn27</th>\n",
       "      <td>16</td>\n",
       "    </tr>\n",
       "    <tr>\n",
       "      <th>pomoshnik_pdn68</th>\n",
       "      <td>14</td>\n",
       "    </tr>\n",
       "    <tr>\n",
       "      <th>pomoshnik_pdn69</th>\n",
       "      <td>13</td>\n",
       "    </tr>\n",
       "    <tr>\n",
       "      <th>pomoshnik_pdn9</th>\n",
       "      <td>13</td>\n",
       "    </tr>\n",
       "    <tr>\n",
       "      <th>pomoshnik_pdn67</th>\n",
       "      <td>7</td>\n",
       "    </tr>\n",
       "    <tr>\n",
       "      <th>pomoshnik_pdn72</th>\n",
       "      <td>7</td>\n",
       "    </tr>\n",
       "    <tr>\n",
       "      <th>pomoshnik_pdn70</th>\n",
       "      <td>6</td>\n",
       "    </tr>\n",
       "    <tr>\n",
       "      <th rowspan=\"6\" valign=\"top\">ГП 191</th>\n",
       "      <th>pomoshnik_pdn15</th>\n",
       "      <td>43</td>\n",
       "    </tr>\n",
       "    <tr>\n",
       "      <th>pomoshnik_pdn13</th>\n",
       "      <td>32</td>\n",
       "    </tr>\n",
       "    <tr>\n",
       "      <th>pomoshnik_pdn20</th>\n",
       "      <td>32</td>\n",
       "    </tr>\n",
       "    <tr>\n",
       "      <th>pomoshnik_pdn41</th>\n",
       "      <td>23</td>\n",
       "    </tr>\n",
       "    <tr>\n",
       "      <th>pomoshnik_pdn222</th>\n",
       "      <td>16</td>\n",
       "    </tr>\n",
       "    <tr>\n",
       "      <th>Помощник 3</th>\n",
       "      <td>13</td>\n",
       "    </tr>\n",
       "    <tr>\n",
       "      <th rowspan=\"5\" valign=\"top\">ГП 134</th>\n",
       "      <th>pomoshnik_pdn89</th>\n",
       "      <td>52</td>\n",
       "    </tr>\n",
       "    <tr>\n",
       "      <th>pomoshnik_pdn63</th>\n",
       "      <td>36</td>\n",
       "    </tr>\n",
       "    <tr>\n",
       "      <th>pomoshnik_pdn75</th>\n",
       "      <td>30</td>\n",
       "    </tr>\n",
       "    <tr>\n",
       "      <th>pomoshnik_pdn7</th>\n",
       "      <td>21</td>\n",
       "    </tr>\n",
       "    <tr>\n",
       "      <th>pomoshnik_pdn93</th>\n",
       "      <td>20</td>\n",
       "    </tr>\n",
       "  </tbody>\n",
       "</table>\n",
       "</div>"
      ],
      "text/plain": [
       "                         emiasid\n",
       "mo     login                    \n",
       "ДЦ 5   pomoshnik_pdn88         1\n",
       "ДКЦ 1  pomoshnik_pdn76        29\n",
       "       pomoshnik_pdn95        28\n",
       "       pomoshnik_pdn39        27\n",
       "       pomoshnik_pdn36        21\n",
       "       pomoshnik_pdn74        17\n",
       "       pomoshnik_pdn78        17\n",
       "       pomoshnik_pdn38        13\n",
       "       pomoshnik_pdn77        12\n",
       "ГП 23  pomoshnik_pdn161        1\n",
       "ГП 220 pomoshnik_pdn73        25\n",
       "       pomoshnik_pdn35        20\n",
       "ГП 22  pomoshnik_pdn66        37\n",
       "       pomoshnik_pdn203       32\n",
       "       pomoshnik_pdn59        26\n",
       "       pomoshnik_pdn91        19\n",
       "       pomoshnik_pdn64        13\n",
       "       pomoshnik_pdn61         9\n",
       "ГП 218 pomoshnik_pdn8         38\n",
       "       pomoshnik_pdn31        24\n",
       "       pomoshnik_pdn29        17\n",
       "       pomoshnik_pdn26        16\n",
       "       pomoshnik_pdn27        16\n",
       "       pomoshnik_pdn68        14\n",
       "       pomoshnik_pdn69        13\n",
       "       pomoshnik_pdn9         13\n",
       "       pomoshnik_pdn67         7\n",
       "       pomoshnik_pdn72         7\n",
       "       pomoshnik_pdn70         6\n",
       "ГП 191 pomoshnik_pdn15        43\n",
       "       pomoshnik_pdn13        32\n",
       "       pomoshnik_pdn20        32\n",
       "       pomoshnik_pdn41        23\n",
       "       pomoshnik_pdn222       16\n",
       "       Помощник 3             13\n",
       "ГП 134 pomoshnik_pdn89        52\n",
       "       pomoshnik_pdn63        36\n",
       "       pomoshnik_pdn75        30\n",
       "       pomoshnik_pdn7         21\n",
       "       pomoshnik_pdn93        20"
      ]
     },
     "execution_count": 191,
     "metadata": {},
     "output_type": "execute_result"
    }
   ],
   "source": [
    "initial_task_for_today[~initial_task_for_today.mo.isin(still_big_task_mo_list)] \\\n",
    ".groupby(['mo', 'login']).agg({'emiasid': 'count'}).sort_values(['mo', 'emiasid'], ascending=False).head(40)"
   ]
  },
  {
   "cell_type": "code",
   "execution_count": 192,
   "id": "a3147965",
   "metadata": {},
   "outputs": [
    {
     "data": {
      "text/html": [
       "<div>\n",
       "<style scoped>\n",
       "    .dataframe tbody tr th:only-of-type {\n",
       "        vertical-align: middle;\n",
       "    }\n",
       "\n",
       "    .dataframe tbody tr th {\n",
       "        vertical-align: top;\n",
       "    }\n",
       "\n",
       "    .dataframe thead th {\n",
       "        text-align: right;\n",
       "    }\n",
       "</style>\n",
       "<table border=\"1\" class=\"dataframe\">\n",
       "  <thead>\n",
       "    <tr style=\"text-align: right;\">\n",
       "      <th></th>\n",
       "      <th></th>\n",
       "      <th>emiasid</th>\n",
       "    </tr>\n",
       "    <tr>\n",
       "      <th>mo</th>\n",
       "      <th>login</th>\n",
       "      <th></th>\n",
       "    </tr>\n",
       "  </thead>\n",
       "  <tbody>\n",
       "    <tr>\n",
       "      <th rowspan=\"4\" valign=\"top\">КДЦ 4</th>\n",
       "      <th>pomoshnik_pdn71</th>\n",
       "      <td>53</td>\n",
       "    </tr>\n",
       "    <tr>\n",
       "      <th>pomoshnik_pdn58</th>\n",
       "      <td>28</td>\n",
       "    </tr>\n",
       "    <tr>\n",
       "      <th>pomoshnik_pdn24</th>\n",
       "      <td>27</td>\n",
       "    </tr>\n",
       "    <tr>\n",
       "      <th>pomoshnik_pdn2</th>\n",
       "      <td>17</td>\n",
       "    </tr>\n",
       "  </tbody>\n",
       "</table>\n",
       "</div>"
      ],
      "text/plain": [
       "                       emiasid\n",
       "mo    login                   \n",
       "КДЦ 4 pomoshnik_pdn71       53\n",
       "      pomoshnik_pdn58       28\n",
       "      pomoshnik_pdn24       27\n",
       "      pomoshnik_pdn2        17"
      ]
     },
     "execution_count": 192,
     "metadata": {},
     "output_type": "execute_result"
    }
   ],
   "source": [
    "initial_task_for_today[initial_task_for_today.mo.isin(still_big_task_mo_list)] \\\n",
    ".groupby(['mo', 'login']).agg({'emiasid': 'count'}).sort_values(['mo', 'emiasid'], ascending=False).head(10)"
   ]
  },
  {
   "cell_type": "code",
   "execution_count": null,
   "id": "59c37cbe",
   "metadata": {},
   "outputs": [],
   "source": []
  },
  {
   "cell_type": "code",
   "execution_count": 193,
   "id": "7d0c51c4",
   "metadata": {},
   "outputs": [],
   "source": [
    "# %%time\n",
    "# initial_task_for_today = pd.DataFrame()\n",
    "# for login in set(initial_assistant_to_patient_distribution_in_today_task.login):\n",
    "#     initial_task_for_today = pd.concat([initial_task_for_today, \n",
    "#     initial_assistant_to_patient_distribution_in_today_task[initial_assistant_to_patient_distribution_in_today_task.login\n",
    "#                                                             == login].sort_values('priority').head(85)]).reset_index(drop=True)"
   ]
  },
  {
   "cell_type": "code",
   "execution_count": null,
   "id": "dbd580fd",
   "metadata": {},
   "outputs": [],
   "source": []
  },
  {
   "cell_type": "code",
   "execution_count": null,
   "id": "3327fe29",
   "metadata": {},
   "outputs": [],
   "source": []
  },
  {
   "cell_type": "code",
   "execution_count": 194,
   "id": "8d50b53f",
   "metadata": {},
   "outputs": [],
   "source": [
    "# initial_assistant_to_patient_distribution_in_today_task.groupby(['mo', 'login']).agg({'emiasid': 'count'}) \\\n",
    "# .sort_values(['mo', 'emiasid'], ascending=False).to_excel('оставшиеся пациенты.xlsx')"
   ]
  },
  {
   "cell_type": "code",
   "execution_count": 195,
   "id": "389c1478",
   "metadata": {},
   "outputs": [],
   "source": [
    "# 266 ms"
   ]
  },
  {
   "cell_type": "code",
   "execution_count": 196,
   "id": "0226670a",
   "metadata": {},
   "outputs": [],
   "source": [
    "# До этого момента можно делать без наличия списка отсуствующих ПВ"
   ]
  },
  {
   "cell_type": "code",
   "execution_count": 197,
   "id": "fcd841bf",
   "metadata": {},
   "outputs": [],
   "source": [
    "new_doctor_patients = final_actual_patients_for_task[(final_actual_patients_for_task.mo.isin(mo_list)) & \n",
    "                    (~final_actual_patients_for_task.doctor_fio.isin(doctors_list))].reset_index(drop=True)\n",
    "new_doctor_patients = new_doctor_patients[~new_doctor_patients.emiasid.isin(calls_data.emiasid)]"
   ]
  },
  {
   "cell_type": "code",
   "execution_count": null,
   "id": "ec9e3d87",
   "metadata": {},
   "outputs": [],
   "source": []
  },
  {
   "cell_type": "code",
   "execution_count": 198,
   "id": "341f411a",
   "metadata": {},
   "outputs": [
    {
     "data": {
      "text/plain": [
       "1404"
      ]
     },
     "execution_count": 198,
     "metadata": {},
     "output_type": "execute_result"
    }
   ],
   "source": [
    "initial_assistant_to_patient_distribution_in_today_task.shape[0] + new_doctor_patients \\\n",
    ".shape[0] + final_actual_patients_for_task[final_actual_patients_for_task.doctor_fio.isna()].shape[0]"
   ]
  },
  {
   "cell_type": "code",
   "execution_count": 199,
   "id": "74f393d5",
   "metadata": {},
   "outputs": [
    {
     "data": {
      "text/plain": [
       "44"
      ]
     },
     "execution_count": 199,
     "metadata": {},
     "output_type": "execute_result"
    }
   ],
   "source": [
    "import gspread\n",
    "from gspread_dataframe import get_as_dataframe\n",
    "gc = gspread.service_account(filename='google_sheets_credentials.json') \n",
    "url = 'https://docs.google.com/spreadsheets/d/1TXjbk9tRDMCjEyyiuK5OIgT8xwlHQ2V1PX2zaVnxPXY/edit#gid=0'\n",
    "sh = gc.open_by_url(url)\n",
    "ws = sh.get_worksheet(0)\n",
    "def search_row(ws, desired_value):\n",
    "    row_number = 0\n",
    "    for row in ws.get_all_values():\n",
    "        row_number += 1\n",
    "        for value in row:\n",
    "            if value == desired_value:\n",
    "                return row_number\n",
    "            \n",
    "skiprows = search_row(ws, 'ФИО помощника врача') - 1\n",
    "\n",
    "assistants_presence_reading = get_as_dataframe(ws, evaluate_formulas=True, skiprows=skiprows)\n",
    "assistants_presence_reading = assistants_presence_reading.loc[~(assistants_presence_reading['Зал №'] == 'Зал №'), \n",
    "    ['Зал №', 'МО закрепления', 'ФИО помощника врача', 'Логин naumen', 'Отсутствует на рабочем месте']] \\\n",
    "        .dropna(how='all', axis=0)\n",
    "\n",
    "\n",
    "assistants_presence = assistants_presence_reading.rename(columns=column_names).copy()\n",
    "\n",
    "absent_assistants = assistants_presence[assistants_presence.absence == 1]\n",
    "\n",
    "absent_assistants.shape[0]"
   ]
  },
  {
   "cell_type": "code",
   "execution_count": null,
   "id": "9cb1206a",
   "metadata": {},
   "outputs": [],
   "source": []
  },
  {
   "cell_type": "code",
   "execution_count": 200,
   "id": "2d053d5f",
   "metadata": {},
   "outputs": [],
   "source": [
    "initial_task_for_today_present_assistants = initial_task_for_today[~initial_task_for_today.login.isin(absent_assistants.login)]"
   ]
  },
  {
   "cell_type": "code",
   "execution_count": 201,
   "id": "e6975764",
   "metadata": {
    "scrolled": false
   },
   "outputs": [
    {
     "data": {
      "text/html": [
       "<div>\n",
       "<style scoped>\n",
       "    .dataframe tbody tr th:only-of-type {\n",
       "        vertical-align: middle;\n",
       "    }\n",
       "\n",
       "    .dataframe tbody tr th {\n",
       "        vertical-align: top;\n",
       "    }\n",
       "\n",
       "    .dataframe thead th {\n",
       "        text-align: right;\n",
       "    }\n",
       "</style>\n",
       "<table border=\"1\" class=\"dataframe\">\n",
       "  <thead>\n",
       "    <tr style=\"text-align: right;\">\n",
       "      <th></th>\n",
       "      <th>emiasid</th>\n",
       "    </tr>\n",
       "    <tr>\n",
       "      <th>login</th>\n",
       "      <th></th>\n",
       "    </tr>\n",
       "  </thead>\n",
       "  <tbody>\n",
       "    <tr>\n",
       "      <th>pomoshnik_pdn71</th>\n",
       "      <td>53</td>\n",
       "    </tr>\n",
       "    <tr>\n",
       "      <th>pomoshnik_pdn89</th>\n",
       "      <td>52</td>\n",
       "    </tr>\n",
       "    <tr>\n",
       "      <th>pomoshnik_pdn15</th>\n",
       "      <td>43</td>\n",
       "    </tr>\n",
       "    <tr>\n",
       "      <th>pomoshnik_pdn8</th>\n",
       "      <td>38</td>\n",
       "    </tr>\n",
       "    <tr>\n",
       "      <th>pomoshnik_pdn203</th>\n",
       "      <td>32</td>\n",
       "    </tr>\n",
       "    <tr>\n",
       "      <th>pomoshnik_pdn75</th>\n",
       "      <td>30</td>\n",
       "    </tr>\n",
       "    <tr>\n",
       "      <th>pomoshnik_pdn76</th>\n",
       "      <td>29</td>\n",
       "    </tr>\n",
       "    <tr>\n",
       "      <th>pomoshnik_pdn95</th>\n",
       "      <td>28</td>\n",
       "    </tr>\n",
       "    <tr>\n",
       "      <th>pomoshnik_pdn39</th>\n",
       "      <td>27</td>\n",
       "    </tr>\n",
       "    <tr>\n",
       "      <th>pomoshnik_pdn24</th>\n",
       "      <td>27</td>\n",
       "    </tr>\n",
       "    <tr>\n",
       "      <th>pomoshnik_pdn31</th>\n",
       "      <td>24</td>\n",
       "    </tr>\n",
       "    <tr>\n",
       "      <th>pomoshnik_pdn41</th>\n",
       "      <td>23</td>\n",
       "    </tr>\n",
       "    <tr>\n",
       "      <th>pomoshnik_pdn36</th>\n",
       "      <td>21</td>\n",
       "    </tr>\n",
       "    <tr>\n",
       "      <th>pomoshnik_pdn35</th>\n",
       "      <td>20</td>\n",
       "    </tr>\n",
       "    <tr>\n",
       "      <th>pomoshnik_pdn93</th>\n",
       "      <td>20</td>\n",
       "    </tr>\n",
       "    <tr>\n",
       "      <th>pomoshnik_pdn91</th>\n",
       "      <td>19</td>\n",
       "    </tr>\n",
       "    <tr>\n",
       "      <th>pomoshnik_pdn2</th>\n",
       "      <td>17</td>\n",
       "    </tr>\n",
       "    <tr>\n",
       "      <th>pomoshnik_pdn78</th>\n",
       "      <td>17</td>\n",
       "    </tr>\n",
       "    <tr>\n",
       "      <th>pomoshnik_pdn74</th>\n",
       "      <td>17</td>\n",
       "    </tr>\n",
       "    <tr>\n",
       "      <th>pomoshnik_pdn29</th>\n",
       "      <td>17</td>\n",
       "    </tr>\n",
       "    <tr>\n",
       "      <th>pomoshnik_pdn27</th>\n",
       "      <td>16</td>\n",
       "    </tr>\n",
       "    <tr>\n",
       "      <th>pomoshnik_pdn26</th>\n",
       "      <td>16</td>\n",
       "    </tr>\n",
       "    <tr>\n",
       "      <th>pomoshnik_pdn68</th>\n",
       "      <td>14</td>\n",
       "    </tr>\n",
       "    <tr>\n",
       "      <th>pomoshnik_pdn69</th>\n",
       "      <td>13</td>\n",
       "    </tr>\n",
       "    <tr>\n",
       "      <th>pomoshnik_pdn64</th>\n",
       "      <td>13</td>\n",
       "    </tr>\n",
       "    <tr>\n",
       "      <th>pomoshnik_pdn9</th>\n",
       "      <td>13</td>\n",
       "    </tr>\n",
       "    <tr>\n",
       "      <th>pomoshnik_pdn38</th>\n",
       "      <td>13</td>\n",
       "    </tr>\n",
       "    <tr>\n",
       "      <th>pomoshnik_pdn61</th>\n",
       "      <td>9</td>\n",
       "    </tr>\n",
       "    <tr>\n",
       "      <th>pomoshnik_pdn72</th>\n",
       "      <td>7</td>\n",
       "    </tr>\n",
       "    <tr>\n",
       "      <th>pomoshnik_pdn67</th>\n",
       "      <td>7</td>\n",
       "    </tr>\n",
       "    <tr>\n",
       "      <th>pomoshnik_pdn70</th>\n",
       "      <td>6</td>\n",
       "    </tr>\n",
       "    <tr>\n",
       "      <th>pomoshnik_pdn161</th>\n",
       "      <td>1</td>\n",
       "    </tr>\n",
       "    <tr>\n",
       "      <th>pomoshnik_pdn88</th>\n",
       "      <td>1</td>\n",
       "    </tr>\n",
       "  </tbody>\n",
       "</table>\n",
       "</div>"
      ],
      "text/plain": [
       "                  emiasid\n",
       "login                    \n",
       "pomoshnik_pdn71        53\n",
       "pomoshnik_pdn89        52\n",
       "pomoshnik_pdn15        43\n",
       "pomoshnik_pdn8         38\n",
       "pomoshnik_pdn203       32\n",
       "pomoshnik_pdn75        30\n",
       "pomoshnik_pdn76        29\n",
       "pomoshnik_pdn95        28\n",
       "pomoshnik_pdn39        27\n",
       "pomoshnik_pdn24        27\n",
       "pomoshnik_pdn31        24\n",
       "pomoshnik_pdn41        23\n",
       "pomoshnik_pdn36        21\n",
       "pomoshnik_pdn35        20\n",
       "pomoshnik_pdn93        20\n",
       "pomoshnik_pdn91        19\n",
       "pomoshnik_pdn2         17\n",
       "pomoshnik_pdn78        17\n",
       "pomoshnik_pdn74        17\n",
       "pomoshnik_pdn29        17\n",
       "pomoshnik_pdn27        16\n",
       "pomoshnik_pdn26        16\n",
       "pomoshnik_pdn68        14\n",
       "pomoshnik_pdn69        13\n",
       "pomoshnik_pdn64        13\n",
       "pomoshnik_pdn9         13\n",
       "pomoshnik_pdn38        13\n",
       "pomoshnik_pdn61         9\n",
       "pomoshnik_pdn72         7\n",
       "pomoshnik_pdn67         7\n",
       "pomoshnik_pdn70         6\n",
       "pomoshnik_pdn161        1\n",
       "pomoshnik_pdn88         1"
      ]
     },
     "execution_count": 201,
     "metadata": {},
     "output_type": "execute_result"
    }
   ],
   "source": [
    "initial_task_for_today_present_assistants.groupby('login').agg({'emiasid': 'count'}).sort_values('emiasid', ascending=False)"
   ]
  },
  {
   "cell_type": "code",
   "execution_count": 202,
   "id": "1ecae2e6",
   "metadata": {},
   "outputs": [],
   "source": [
    "initial_task_for_today_absent_assistants =  initial_task_for_today[initial_task_for_today.login.isin(absent_assistants.login)] \\\n",
    "[['emiasid', 'date', 'status', 'old_comment', 'next_call_date', 'doctor_fio', 'mo', 'priority']]"
   ]
  },
  {
   "cell_type": "code",
   "execution_count": 203,
   "id": "c30734a5",
   "metadata": {},
   "outputs": [],
   "source": [
    "additional_task_for_present_assistants = \\\n",
    "pd.concat([\n",
    "    new_doctor_patients,\n",
    "    initial_task_for_today_absent_assistants\n",
    "]).sort_values('priority').reset_index(drop=True)"
   ]
  },
  {
   "cell_type": "code",
   "execution_count": 204,
   "id": "85870139",
   "metadata": {
    "scrolled": true
   },
   "outputs": [],
   "source": [
    "additional_task_for_present_assistants_by_mo = \\\n",
    "additional_task_for_present_assistants.groupby(['mo']).agg({'emiasid': 'count'}).sort_values(by=['mo', 'emiasid'])"
   ]
  },
  {
   "cell_type": "code",
   "execution_count": 205,
   "id": "0f2c1f7f",
   "metadata": {},
   "outputs": [],
   "source": [
    "distribution_count = initial_task_for_today_present_assistants.groupby(['mo']).agg({'emiasid': 'count', 'login': 'nunique'}) \\\n",
    ".sort_values(by=['mo', 'emiasid'])"
   ]
  },
  {
   "cell_type": "code",
   "execution_count": 206,
   "id": "27352610",
   "metadata": {},
   "outputs": [],
   "source": [
    "distribution_count['total_delta'] = distribution_count['login'] * 85 - distribution_count['emiasid']"
   ]
  },
  {
   "cell_type": "code",
   "execution_count": 207,
   "id": "0136beee",
   "metadata": {},
   "outputs": [],
   "source": [
    "distribution_count = distribution_count[distribution_count.total_delta > 0]"
   ]
  },
  {
   "cell_type": "code",
   "execution_count": 208,
   "id": "5ef5df1a",
   "metadata": {},
   "outputs": [],
   "source": [
    "final_task_predistribution = \\\n",
    "pd.concat([initial_task_for_today_present_assistants, additional_task_for_present_assistants]).reset_index(drop=True)"
   ]
  },
  {
   "cell_type": "code",
   "execution_count": 209,
   "id": "6995238c",
   "metadata": {},
   "outputs": [
    {
     "data": {
      "text/plain": [
       "721"
      ]
     },
     "execution_count": 209,
     "metadata": {},
     "output_type": "execute_result"
    }
   ],
   "source": [
    "empty_login_patients_amount_before = final_task_predistribution[final_task_predistribution.login.isna()].shape[0]\n",
    "empty_login_patients_amount_before"
   ]
  },
  {
   "cell_type": "code",
   "execution_count": 211,
   "id": "73ec1fe2",
   "metadata": {},
   "outputs": [
    {
     "name": "stdout",
     "output_type": "stream",
     "text": [
      "CPU times: total: 31.2 ms\n",
      "Wall time: 34.1 ms\n"
     ]
    }
   ],
   "source": [
    "%%time\n",
    "\n",
    "for mo in distribution_count.index:\n",
    "    \n",
    "    while final_task_predistribution[final_task_predistribution.mo == mo].groupby('login') \\\n",
    "    .agg({'emiasid': 'count'}).min()['emiasid'] < 85 and \\\n",
    "    final_task_predistribution[(final_task_predistribution.login.isna()) & (final_task_predistribution.mo == mo)] \\\n",
    "    .shape[0] > 0:\n",
    "        \n",
    "        miminal_in_mo_assistant_emiasid_amount = final_task_predistribution[final_task_predistribution.mo == mo] \\\n",
    "        .groupby('login').agg({'emiasid': 'count'}).min()['emiasid']\n",
    "\n",
    "        minimal_in_mo_emiasid_amount_login = final_task_predistribution[final_task_predistribution.mo == mo] \\\n",
    "        .groupby('login').agg({'emiasid': 'count'}).sort_values(by='emiasid').index[0]\n",
    "        \n",
    "        \n",
    "        empty_login_in_mo_index = final_task_predistribution[\n",
    "            (final_task_predistribution.login.isna()) & (final_task_predistribution.mo == mo)\n",
    "        ].sort_values(by='priority').index[0]\n",
    "\n",
    "        final_task_predistribution.loc[empty_login_in_mo_index, 'login'] = minimal_in_mo_emiasid_amount_login\n"
   ]
  },
  {
   "cell_type": "code",
   "execution_count": null,
   "id": "2bee0a89",
   "metadata": {},
   "outputs": [],
   "source": []
  },
  {
   "cell_type": "code",
   "execution_count": 212,
   "id": "3843c75e",
   "metadata": {},
   "outputs": [
    {
     "data": {
      "text/plain": [
       "95"
      ]
     },
     "execution_count": 212,
     "metadata": {},
     "output_type": "execute_result"
    }
   ],
   "source": [
    "empty_login_patients_amount_after = final_task_predistribution[final_task_predistribution.login.isna()].shape[0]\n",
    "empty_login_patients_amount_after"
   ]
  },
  {
   "cell_type": "code",
   "execution_count": null,
   "id": "96daa166",
   "metadata": {},
   "outputs": [],
   "source": []
  },
  {
   "cell_type": "code",
   "execution_count": null,
   "id": "2535b880",
   "metadata": {},
   "outputs": [],
   "source": []
  },
  {
   "cell_type": "code",
   "execution_count": 213,
   "id": "124994b8",
   "metadata": {},
   "outputs": [],
   "source": [
    "check_table = distribution_count.merge(additional_task_for_present_assistants_by_mo,left_index=True, right_index=True) \\\n",
    "[['total_delta', 'emiasid_y']]"
   ]
  },
  {
   "cell_type": "code",
   "execution_count": 214,
   "id": "059755e6",
   "metadata": {},
   "outputs": [],
   "source": [
    "check_table.loc[check_table['total_delta'] > check_table['emiasid_y'], 'real_addition'] = \\\n",
    "check_table.loc[check_table['total_delta'] > check_table['emiasid_y'], 'emiasid_y']\n",
    "\n",
    "check_table.loc[check_table['total_delta'] <= check_table['emiasid_y'], 'real_addition'] = \\\n",
    "check_table.loc[check_table['total_delta'] <= check_table['emiasid_y'], 'total_delta']"
   ]
  },
  {
   "cell_type": "code",
   "execution_count": 215,
   "id": "5531b197",
   "metadata": {},
   "outputs": [
    {
     "data": {
      "text/plain": [
       "626.0"
      ]
     },
     "execution_count": 215,
     "metadata": {},
     "output_type": "execute_result"
    }
   ],
   "source": [
    "real_change_of_emty_login_patients_amount = check_table.real_addition.sum()\n",
    "real_change_of_emty_login_patients_amount"
   ]
  },
  {
   "cell_type": "code",
   "execution_count": 216,
   "id": "625ee5e5",
   "metadata": {},
   "outputs": [
    {
     "data": {
      "text/plain": [
       "True"
      ]
     },
     "execution_count": 216,
     "metadata": {},
     "output_type": "execute_result"
    }
   ],
   "source": [
    "empty_login_patients_amount_before - empty_login_patients_amount_after == real_change_of_emty_login_patients_amount"
   ]
  },
  {
   "cell_type": "code",
   "execution_count": 217,
   "id": "907e3e60",
   "metadata": {},
   "outputs": [],
   "source": [
    "final_task_distribution = final_task_predistribution[~final_task_predistribution.login.isna()] \\\n",
    ".copy().drop(columns={'doctor_fio', 'assistant_fio'}).reset_index(drop=True)"
   ]
  },
  {
   "cell_type": "code",
   "execution_count": null,
   "id": "df247dfb",
   "metadata": {},
   "outputs": [],
   "source": []
  },
  {
   "cell_type": "code",
   "execution_count": 219,
   "id": "1081a0d2",
   "metadata": {},
   "outputs": [
    {
     "data": {
      "text/html": [
       "<div>\n",
       "<style scoped>\n",
       "    .dataframe tbody tr th:only-of-type {\n",
       "        vertical-align: middle;\n",
       "    }\n",
       "\n",
       "    .dataframe tbody tr th {\n",
       "        vertical-align: top;\n",
       "    }\n",
       "\n",
       "    .dataframe thead th {\n",
       "        text-align: right;\n",
       "    }\n",
       "</style>\n",
       "<table border=\"1\" class=\"dataframe\">\n",
       "  <thead>\n",
       "    <tr style=\"text-align: right;\">\n",
       "      <th></th>\n",
       "      <th>emiasid</th>\n",
       "      <th>date</th>\n",
       "      <th>status</th>\n",
       "      <th>old_comment</th>\n",
       "      <th>next_call_date</th>\n",
       "      <th>mo</th>\n",
       "      <th>priority</th>\n",
       "      <th>login</th>\n",
       "    </tr>\n",
       "  </thead>\n",
       "  <tbody>\n",
       "    <tr>\n",
       "      <th>0</th>\n",
       "      <td>20358234</td>\n",
       "      <td>2022-08-16</td>\n",
       "      <td>Ни разу не звонили</td>\n",
       "      <td>NaN</td>\n",
       "      <td>NaT</td>\n",
       "      <td>ГП 218</td>\n",
       "      <td>1</td>\n",
       "      <td>pomoshnik_pdn31</td>\n",
       "    </tr>\n",
       "    <tr>\n",
       "      <th>1</th>\n",
       "      <td>274989991</td>\n",
       "      <td>2022-08-16</td>\n",
       "      <td>Ни разу не звонили</td>\n",
       "      <td>NaN</td>\n",
       "      <td>NaT</td>\n",
       "      <td>ГП 218</td>\n",
       "      <td>1</td>\n",
       "      <td>pomoshnik_pdn31</td>\n",
       "    </tr>\n",
       "    <tr>\n",
       "      <th>2</th>\n",
       "      <td>2245966334</td>\n",
       "      <td>2022-08-16</td>\n",
       "      <td>Ни разу не звонили</td>\n",
       "      <td>NaN</td>\n",
       "      <td>NaT</td>\n",
       "      <td>ГП 218</td>\n",
       "      <td>1</td>\n",
       "      <td>pomoshnik_pdn31</td>\n",
       "    </tr>\n",
       "    <tr>\n",
       "      <th>3</th>\n",
       "      <td>2245665810</td>\n",
       "      <td>2022-08-16</td>\n",
       "      <td>Ни разу не звонили</td>\n",
       "      <td>NaN</td>\n",
       "      <td>NaT</td>\n",
       "      <td>ГП 218</td>\n",
       "      <td>1</td>\n",
       "      <td>pomoshnik_pdn31</td>\n",
       "    </tr>\n",
       "    <tr>\n",
       "      <th>4</th>\n",
       "      <td>25470391</td>\n",
       "      <td>2022-08-16</td>\n",
       "      <td>Ни разу не звонили</td>\n",
       "      <td>NaN</td>\n",
       "      <td>NaT</td>\n",
       "      <td>ГП 218</td>\n",
       "      <td>1</td>\n",
       "      <td>pomoshnik_pdn31</td>\n",
       "    </tr>\n",
       "    <tr>\n",
       "      <th>...</th>\n",
       "      <td>...</td>\n",
       "      <td>...</td>\n",
       "      <td>...</td>\n",
       "      <td>...</td>\n",
       "      <td>...</td>\n",
       "      <td>...</td>\n",
       "      <td>...</td>\n",
       "      <td>...</td>\n",
       "    </tr>\n",
       "    <tr>\n",
       "      <th>1304</th>\n",
       "      <td>16575457</td>\n",
       "      <td>2022-08-16</td>\n",
       "      <td>Ни разу не звонили</td>\n",
       "      <td>NaN</td>\n",
       "      <td>NaT</td>\n",
       "      <td>ДКЦ 1</td>\n",
       "      <td>1</td>\n",
       "      <td>pomoshnik_pdn74</td>\n",
       "    </tr>\n",
       "    <tr>\n",
       "      <th>1305</th>\n",
       "      <td>16764281</td>\n",
       "      <td>2022-08-16</td>\n",
       "      <td>Ни разу не звонили</td>\n",
       "      <td>NaN</td>\n",
       "      <td>NaT</td>\n",
       "      <td>ГП 134</td>\n",
       "      <td>1</td>\n",
       "      <td>pomoshnik_pdn89</td>\n",
       "    </tr>\n",
       "    <tr>\n",
       "      <th>1306</th>\n",
       "      <td>16735916</td>\n",
       "      <td>2022-08-16</td>\n",
       "      <td>Ни разу не звонили</td>\n",
       "      <td>NaN</td>\n",
       "      <td>NaT</td>\n",
       "      <td>ДКЦ 1</td>\n",
       "      <td>1</td>\n",
       "      <td>pomoshnik_pdn76</td>\n",
       "    </tr>\n",
       "    <tr>\n",
       "      <th>1307</th>\n",
       "      <td>17620820</td>\n",
       "      <td>2022-08-16</td>\n",
       "      <td>Ни разу не звонили</td>\n",
       "      <td>NaN</td>\n",
       "      <td>NaT</td>\n",
       "      <td>ГП 22</td>\n",
       "      <td>1</td>\n",
       "      <td>pomoshnik_pdn64</td>\n",
       "    </tr>\n",
       "    <tr>\n",
       "      <th>1308</th>\n",
       "      <td>17715243</td>\n",
       "      <td>2022-08-16</td>\n",
       "      <td>Ни разу не звонили</td>\n",
       "      <td>NaN</td>\n",
       "      <td>NaT</td>\n",
       "      <td>ГП 22</td>\n",
       "      <td>1</td>\n",
       "      <td>pomoshnik_pdn91</td>\n",
       "    </tr>\n",
       "  </tbody>\n",
       "</table>\n",
       "<p>1309 rows × 8 columns</p>\n",
       "</div>"
      ],
      "text/plain": [
       "         emiasid        date              status  old_comment next_call_date  \\\n",
       "0       20358234  2022-08-16  Ни разу не звонили          NaN            NaT   \n",
       "1      274989991  2022-08-16  Ни разу не звонили          NaN            NaT   \n",
       "2     2245966334  2022-08-16  Ни разу не звонили          NaN            NaT   \n",
       "3     2245665810  2022-08-16  Ни разу не звонили          NaN            NaT   \n",
       "4       25470391  2022-08-16  Ни разу не звонили          NaN            NaT   \n",
       "...          ...         ...                 ...          ...            ...   \n",
       "1304    16575457  2022-08-16  Ни разу не звонили          NaN            NaT   \n",
       "1305    16764281  2022-08-16  Ни разу не звонили          NaN            NaT   \n",
       "1306    16735916  2022-08-16  Ни разу не звонили          NaN            NaT   \n",
       "1307    17620820  2022-08-16  Ни разу не звонили          NaN            NaT   \n",
       "1308    17715243  2022-08-16  Ни разу не звонили          NaN            NaT   \n",
       "\n",
       "          mo priority            login  \n",
       "0     ГП 218        1  pomoshnik_pdn31  \n",
       "1     ГП 218        1  pomoshnik_pdn31  \n",
       "2     ГП 218        1  pomoshnik_pdn31  \n",
       "3     ГП 218        1  pomoshnik_pdn31  \n",
       "4     ГП 218        1  pomoshnik_pdn31  \n",
       "...      ...      ...              ...  \n",
       "1304   ДКЦ 1        1  pomoshnik_pdn74  \n",
       "1305  ГП 134        1  pomoshnik_pdn89  \n",
       "1306   ДКЦ 1        1  pomoshnik_pdn76  \n",
       "1307   ГП 22        1  pomoshnik_pdn64  \n",
       "1308   ГП 22        1  pomoshnik_pdn91  \n",
       "\n",
       "[1309 rows x 8 columns]"
      ]
     },
     "execution_count": 219,
     "metadata": {},
     "output_type": "execute_result"
    }
   ],
   "source": [
    "final_task_distribution"
   ]
  },
  {
   "cell_type": "code",
   "execution_count": 220,
   "id": "4f7fe79b",
   "metadata": {},
   "outputs": [],
   "source": [
    "# final_task_amount_for_assistant = final_task_distribution.groupby('login').agg({'emiasid': 'count'}).reset_index()"
   ]
  },
  {
   "cell_type": "code",
   "execution_count": 221,
   "id": "d15a50b0",
   "metadata": {},
   "outputs": [],
   "source": [
    "# patients_data_for_additional_task_for_low_occupied_assistants = \\\n",
    "# patients_current_statuses.merge(assistant_to_doctor_distribution, on=['doctor_fio', 'mo'])\n",
    "# patients_data_for_additional_task_for_low_occupied_assistants = patients_data_for_additional_task_for_low_occupied_assistants[\n",
    "# patients_data_for_additional_task_for_low_occupied_assistants.status.isin({'Разговор состоялся', 'Запишется самостоятельно'})]"
   ]
  },
  {
   "cell_type": "code",
   "execution_count": 121,
   "id": "5cf86fa0",
   "metadata": {
    "scrolled": true
   },
   "outputs": [],
   "source": [
    "# low_occupied_assistants = set(final_task_amount_for_assistant[final_task_amount_for_assistant.emiasid < 50].login.unique())\n",
    "# no_task_assistants = set(assistants_presence[(~assistants_presence.login.isin(final_task_amount_for_assistant.login)) &\n",
    "#                        (assistants_presence.absence.isna())].login.unique())\n"
   ]
  },
  {
   "cell_type": "code",
   "execution_count": null,
   "id": "8c59c419",
   "metadata": {},
   "outputs": [],
   "source": []
  },
  {
   "cell_type": "code",
   "execution_count": 122,
   "id": "13b9fbbf",
   "metadata": {},
   "outputs": [],
   "source": [
    "# additional_task_for_low_occupied_assistants = patients_data_for_additional_task_for_low_occupied_assistants[\n",
    "#     patients_data_for_additional_task_for_low_occupied_assistants.login.isin((low_occupied_assistants |  no_task_assistants))] \\\n",
    "#     .drop(columns={'doctor_fio', 'assistant_fio'}).reset_index(drop=True)"
   ]
  },
  {
   "cell_type": "code",
   "execution_count": 123,
   "id": "63b0e5b0",
   "metadata": {},
   "outputs": [],
   "source": [
    "# additional_task_for_low_occupied_assistants['date'] = additional_task_for_low_occupied_assistants['date'] \\\n",
    "# .apply(lambda x: pd.to_datetime(x).date())\n",
    "# additional_task_for_low_occupied_assistants['next_call_date'] = additional_task_for_low_occupied_assistants['next_call_date'] \\\n",
    "# .apply(lambda x: pd.to_datetime(x).date())"
   ]
  },
  {
   "cell_type": "code",
   "execution_count": 124,
   "id": "7f028105",
   "metadata": {},
   "outputs": [],
   "source": [
    "# additional_task_for_low_occupied_assistants['priority'] = '4'"
   ]
  },
  {
   "cell_type": "code",
   "execution_count": null,
   "id": "37e12838",
   "metadata": {},
   "outputs": [],
   "source": []
  },
  {
   "cell_type": "code",
   "execution_count": 125,
   "id": "e6a37e2e",
   "metadata": {},
   "outputs": [],
   "source": [
    "# final_task_distribution_with_additional_task_for_low_occupied_assistants = \\\n",
    "# pd.concat([final_task_distribution, additional_task_for_low_occupied_assistants])"
   ]
  },
  {
   "cell_type": "code",
   "execution_count": 126,
   "id": "03980c93",
   "metadata": {
    "scrolled": true
   },
   "outputs": [],
   "source": [
    "# final_task_distribution_with_additional_task_for_low_occupied_assistants.shape[0]"
   ]
  },
  {
   "cell_type": "code",
   "execution_count": 127,
   "id": "53181686",
   "metadata": {},
   "outputs": [],
   "source": [
    "# final_task_distribution_with_additional_task_for_low_occupied_assistants \\\n",
    "# .groupby('login').agg({'emiasid': 'count'}).sort_values('emiasid', ascending=False).head(30)"
   ]
  },
  {
   "cell_type": "code",
   "execution_count": 128,
   "id": "b6a80d94",
   "metadata": {},
   "outputs": [],
   "source": [
    "# %%time\n",
    "\n",
    "# final_task_distribution_with_additional_task_for_low_occupied_assistants_for_today = pd.DataFrame()\n",
    "# for login in set(final_task_distribution_with_additional_task_for_low_occupied_assistants.login):\n",
    "#     final_task_distribution_with_additional_task_for_low_occupied_assistants_for_today = pd.concat(\n",
    "#         [final_task_distribution_with_additional_task_for_low_occupied_assistants_for_today,\n",
    "#          final_task_distribution_with_additional_task_for_low_occupied_assistants[\n",
    "#              final_task_distribution_with_additional_task_for_low_occupied_assistants.login\n",
    "#                                                             == login].sort_values('priority').head(85)]).reset_index(drop=True)"
   ]
  },
  {
   "cell_type": "code",
   "execution_count": 129,
   "id": "fef2eaab",
   "metadata": {},
   "outputs": [],
   "source": [
    "# final_task_distribution_with_additional_task_for_low_occupied_assistants_for_today \\\n",
    "# .groupby('login').agg({'emiasid': 'count'}).sort_values('emiasid', ascending=False)"
   ]
  },
  {
   "cell_type": "markdown",
   "id": "69260c27",
   "metadata": {},
   "source": [
    "# ПРОВЕРКА"
   ]
  },
  {
   "cell_type": "code",
   "execution_count": 222,
   "id": "fa6930f2",
   "metadata": {},
   "outputs": [
    {
     "data": {
      "text/plain": [
       "44"
      ]
     },
     "execution_count": 222,
     "metadata": {},
     "output_type": "execute_result"
    }
   ],
   "source": [
    "assistants_presence[assistants_presence.absence == 1].shape[0]"
   ]
  },
  {
   "cell_type": "code",
   "execution_count": null,
   "id": "f20d3934",
   "metadata": {},
   "outputs": [],
   "source": []
  },
  {
   "cell_type": "code",
   "execution_count": 223,
   "id": "b3cd6539",
   "metadata": {},
   "outputs": [
    {
     "data": {
      "text/plain": [
       "721"
      ]
     },
     "execution_count": 223,
     "metadata": {},
     "output_type": "execute_result"
    }
   ],
   "source": [
    "empty_login_patients_amount_before"
   ]
  },
  {
   "cell_type": "code",
   "execution_count": 224,
   "id": "e5fd5fc5",
   "metadata": {},
   "outputs": [
    {
     "data": {
      "text/plain": [
       "95"
      ]
     },
     "execution_count": 224,
     "metadata": {},
     "output_type": "execute_result"
    }
   ],
   "source": [
    "empty_login_patients_amount_after"
   ]
  },
  {
   "cell_type": "code",
   "execution_count": 225,
   "id": "16fe95dc",
   "metadata": {},
   "outputs": [
    {
     "data": {
      "text/plain": [
       "626.0"
      ]
     },
     "execution_count": 225,
     "metadata": {},
     "output_type": "execute_result"
    }
   ],
   "source": [
    "real_change_of_emty_login_patients_amount"
   ]
  },
  {
   "cell_type": "code",
   "execution_count": 226,
   "id": "e66ce787",
   "metadata": {},
   "outputs": [
    {
     "data": {
      "text/plain": [
       "True"
      ]
     },
     "execution_count": 226,
     "metadata": {},
     "output_type": "execute_result"
    }
   ],
   "source": [
    "empty_login_patients_amount_before - empty_login_patients_amount_after == real_change_of_emty_login_patients_amount"
   ]
  },
  {
   "cell_type": "code",
   "execution_count": null,
   "id": "e5b7d8cb",
   "metadata": {},
   "outputs": [],
   "source": []
  },
  {
   "cell_type": "code",
   "execution_count": null,
   "id": "000a8458",
   "metadata": {},
   "outputs": [],
   "source": []
  },
  {
   "cell_type": "code",
   "execution_count": 227,
   "id": "bf97114a",
   "metadata": {},
   "outputs": [
    {
     "data": {
      "text/plain": [
       "1404"
      ]
     },
     "execution_count": 227,
     "metadata": {},
     "output_type": "execute_result"
    }
   ],
   "source": [
    "final_task_distribution.shape[0] + empty_login_patients_amount_after"
   ]
  },
  {
   "cell_type": "code",
   "execution_count": 228,
   "id": "693b830b",
   "metadata": {},
   "outputs": [
    {
     "data": {
      "text/plain": [
       "1404"
      ]
     },
     "execution_count": 228,
     "metadata": {},
     "output_type": "execute_result"
    }
   ],
   "source": [
    "initial_task_for_today.shape[0] + new_doctor_patients.shape[0]"
   ]
  },
  {
   "cell_type": "code",
   "execution_count": null,
   "id": "4b828813",
   "metadata": {},
   "outputs": [],
   "source": []
  },
  {
   "cell_type": "code",
   "execution_count": null,
   "id": "2eb488ad",
   "metadata": {},
   "outputs": [],
   "source": []
  },
  {
   "cell_type": "code",
   "execution_count": 229,
   "id": "76e14260",
   "metadata": {},
   "outputs": [
    {
     "data": {
      "text/plain": [
       "array([ True])"
      ]
     },
     "execution_count": 229,
     "metadata": {},
     "output_type": "execute_result"
    }
   ],
   "source": [
    "final_task_distribution.emiasid.isin(\n",
    "    patients_current_statuses.emiasid).unique()"
   ]
  },
  {
   "cell_type": "code",
   "execution_count": 230,
   "id": "38e87784",
   "metadata": {},
   "outputs": [],
   "source": [
    "# ~final_task_distribution.emiasid.isin(\n",
    "#     temporary_inclusion.emiasid).unique()"
   ]
  },
  {
   "cell_type": "code",
   "execution_count": null,
   "id": "8b568859",
   "metadata": {},
   "outputs": [],
   "source": []
  },
  {
   "cell_type": "code",
   "execution_count": null,
   "id": "a4f4369f",
   "metadata": {},
   "outputs": [],
   "source": []
  },
  {
   "cell_type": "code",
   "execution_count": 231,
   "id": "2db0a639",
   "metadata": {},
   "outputs": [
    {
     "data": {
      "text/plain": [
       "array([False])"
      ]
     },
     "execution_count": 231,
     "metadata": {},
     "output_type": "execute_result"
    }
   ],
   "source": [
    "final_task_distribution[final_task_distribution.status == 'Ни разу не звонили'].emiasid.isin(calls_data.emiasid).unique()"
   ]
  },
  {
   "cell_type": "code",
   "execution_count": 232,
   "id": "7b340f0b",
   "metadata": {},
   "outputs": [
    {
     "data": {
      "text/plain": [
       "array([ True])"
      ]
     },
     "execution_count": 232,
     "metadata": {},
     "output_type": "execute_result"
    }
   ],
   "source": [
    "final_task_distribution[~(final_task_distribution.status == 'Ни разу не звонили')].emiasid.isin(calls_data.emiasid).unique()"
   ]
  },
  {
   "cell_type": "code",
   "execution_count": null,
   "id": "ec9d3de9",
   "metadata": {},
   "outputs": [],
   "source": []
  },
  {
   "cell_type": "code",
   "execution_count": null,
   "id": "7b4514e1",
   "metadata": {},
   "outputs": [],
   "source": []
  },
  {
   "cell_type": "code",
   "execution_count": 233,
   "id": "aaaf0b13",
   "metadata": {},
   "outputs": [
    {
     "data": {
      "text/plain": [
       "0"
      ]
     },
     "execution_count": 233,
     "metadata": {},
     "output_type": "execute_result"
    }
   ],
   "source": [
    "call_back_today_patients.shape[0]"
   ]
  },
  {
   "cell_type": "code",
   "execution_count": 234,
   "id": "f17647a2",
   "metadata": {
    "scrolled": true
   },
   "outputs": [
    {
     "data": {
      "text/plain": [
       "0"
      ]
     },
     "execution_count": 234,
     "metadata": {},
     "output_type": "execute_result"
    }
   ],
   "source": [
    "final_task_distribution[final_task_distribution.status == 'Перезвонить сегодня'].shape[0]"
   ]
  },
  {
   "cell_type": "code",
   "execution_count": null,
   "id": "e3fdef2c",
   "metadata": {},
   "outputs": [],
   "source": []
  },
  {
   "cell_type": "code",
   "execution_count": null,
   "id": "e1acba62",
   "metadata": {},
   "outputs": [],
   "source": []
  },
  {
   "cell_type": "code",
   "execution_count": 235,
   "id": "cdb126ac",
   "metadata": {},
   "outputs": [
    {
     "data": {
      "text/plain": [
       "0"
      ]
     },
     "execution_count": 235,
     "metadata": {},
     "output_type": "execute_result"
    }
   ],
   "source": [
    "call_back_on_date_patients.shape[0]"
   ]
  },
  {
   "cell_type": "code",
   "execution_count": 236,
   "id": "1369e324",
   "metadata": {},
   "outputs": [
    {
     "data": {
      "text/plain": [
       "0"
      ]
     },
     "execution_count": 236,
     "metadata": {},
     "output_type": "execute_result"
    }
   ],
   "source": [
    "final_task_distribution[final_task_distribution.status == 'Перенос звонка на другой день'].shape[0]"
   ]
  },
  {
   "cell_type": "code",
   "execution_count": null,
   "id": "7d2be20d",
   "metadata": {},
   "outputs": [],
   "source": []
  },
  {
   "cell_type": "code",
   "execution_count": 237,
   "id": "d456c561",
   "metadata": {},
   "outputs": [
    {
     "data": {
      "text/plain": [
       "1309"
      ]
     },
     "execution_count": 237,
     "metadata": {},
     "output_type": "execute_result"
    }
   ],
   "source": [
    "final_task_distribution.shape[0]"
   ]
  },
  {
   "cell_type": "code",
   "execution_count": 238,
   "id": "90e485db",
   "metadata": {},
   "outputs": [],
   "source": [
    "# additional_task_for_low_occupied_assistants.shape[0]"
   ]
  },
  {
   "cell_type": "code",
   "execution_count": 239,
   "id": "1b78a5a4",
   "metadata": {},
   "outputs": [],
   "source": [
    "# additional_task_for_low_occupied_assistants.columns"
   ]
  },
  {
   "cell_type": "code",
   "execution_count": 240,
   "id": "fa3f99c0",
   "metadata": {},
   "outputs": [],
   "source": [
    "# additional_task_for_low_occupied_assistants.groupby('login').agg({'emiasid': 'count'}).sort_values('emiasid', ascending=False)"
   ]
  },
  {
   "cell_type": "code",
   "execution_count": 241,
   "id": "aff694da",
   "metadata": {},
   "outputs": [
    {
     "data": {
      "text/plain": [
       "1309"
      ]
     },
     "execution_count": 241,
     "metadata": {},
     "output_type": "execute_result"
    }
   ],
   "source": [
    "final_task_distribution.shape[0]"
   ]
  },
  {
   "cell_type": "code",
   "execution_count": 150,
   "id": "1b67039f",
   "metadata": {},
   "outputs": [],
   "source": [
    "# final_task_distribution_with_additional_task_for_low_occupied_assistants_for_today.shape[0]"
   ]
  },
  {
   "cell_type": "markdown",
   "id": "d24eab1b",
   "metadata": {},
   "source": [
    "# ЭКСПОРТ"
   ]
  },
  {
   "cell_type": "code",
   "execution_count": 242,
   "id": "d406a894",
   "metadata": {},
   "outputs": [],
   "source": [
    "final_task_distribution.to_excel(rf'august__final_task_distribution_{today_y_m_d}.xlsx', index=False)"
   ]
  },
  {
   "cell_type": "code",
   "execution_count": null,
   "id": "1cef49cd",
   "metadata": {},
   "outputs": [],
   "source": [
    "# additional_task_for_low_occupied_assistants.to_excel('august_additional_task_for_pdn39.xlsx', index=False)"
   ]
  },
  {
   "cell_type": "code",
   "execution_count": null,
   "id": "ed1878ec",
   "metadata": {},
   "outputs": [],
   "source": [
    "# final_task_distribution_with_additional_task_for_low_occupied_assistants_for_today \\\n",
    "# .to_excel(rf'august_final_task_distribution_{today_y_m_d}.xlsx', index=False)"
   ]
  },
  {
   "cell_type": "code",
   "execution_count": null,
   "id": "a6e3d37c",
   "metadata": {},
   "outputs": [],
   "source": []
  },
  {
   "cell_type": "code",
   "execution_count": null,
   "id": "cc6eb92a",
   "metadata": {},
   "outputs": [],
   "source": []
  },
  {
   "cell_type": "markdown",
   "id": "d3f9c728",
   "metadata": {},
   "source": [
    "# МАНИПУЛЯЦИИ ВНЕ ФОРМИРОВАНИЯ ЗАДАНИЯ"
   ]
  },
  {
   "cell_type": "code",
   "execution_count": 72,
   "id": "816b4d71",
   "metadata": {},
   "outputs": [],
   "source": [
    "present_assistants = assistants_presence[assistants_presence.absence.isna()]"
   ]
  },
  {
   "cell_type": "code",
   "execution_count": 73,
   "id": "48acb3c4",
   "metadata": {},
   "outputs": [
    {
     "data": {
      "text/html": [
       "<div>\n",
       "<style scoped>\n",
       "    .dataframe tbody tr th:only-of-type {\n",
       "        vertical-align: middle;\n",
       "    }\n",
       "\n",
       "    .dataframe tbody tr th {\n",
       "        vertical-align: top;\n",
       "    }\n",
       "\n",
       "    .dataframe thead th {\n",
       "        text-align: right;\n",
       "    }\n",
       "</style>\n",
       "<table border=\"1\" class=\"dataframe\">\n",
       "  <thead>\n",
       "    <tr style=\"text-align: right;\">\n",
       "      <th></th>\n",
       "      <th>hall_number</th>\n",
       "      <th>mo</th>\n",
       "      <th>assistant_fio</th>\n",
       "      <th>login</th>\n",
       "      <th>absence</th>\n",
       "    </tr>\n",
       "  </thead>\n",
       "  <tbody>\n",
       "    <tr>\n",
       "      <th>3</th>\n",
       "      <td>509</td>\n",
       "      <td>ГП 22</td>\n",
       "      <td>Катько Алексей Алексеевич</td>\n",
       "      <td>pomoshnik_pdn61</td>\n",
       "      <td>NaN</td>\n",
       "    </tr>\n",
       "    <tr>\n",
       "      <th>36</th>\n",
       "      <td>507</td>\n",
       "      <td>ГП 22</td>\n",
       "      <td>Рамазанова Джульета Руслановна</td>\n",
       "      <td>pomoshnik_pdn64</td>\n",
       "      <td>NaN</td>\n",
       "    </tr>\n",
       "    <tr>\n",
       "      <th>79</th>\n",
       "      <td>504</td>\n",
       "      <td>КДЦ 6</td>\n",
       "      <td>Капустина Ольга Владимировна</td>\n",
       "      <td>pomoshnik_pdn37</td>\n",
       "      <td>NaN</td>\n",
       "    </tr>\n",
       "    <tr>\n",
       "      <th>172</th>\n",
       "      <td>504</td>\n",
       "      <td>КДЦ 6</td>\n",
       "      <td>Капустина Ольга Владимировна</td>\n",
       "      <td>pomoshnik_pdn37</td>\n",
       "      <td>NaN</td>\n",
       "    </tr>\n",
       "  </tbody>\n",
       "</table>\n",
       "</div>"
      ],
      "text/plain": [
       "    hall_number     mo                   assistant_fio            login  \\\n",
       "3           509  ГП 22       Катько Алексей Алексеевич  pomoshnik_pdn61   \n",
       "36          507  ГП 22  Рамазанова Джульета Руслановна  pomoshnik_pdn64   \n",
       "79          504  КДЦ 6    Капустина Ольга Владимировна  pomoshnik_pdn37   \n",
       "172         504  КДЦ 6    Капустина Ольга Владимировна  pomoshnik_pdn37   \n",
       "\n",
       "    absence  \n",
       "3       NaN  \n",
       "36      NaN  \n",
       "79      NaN  \n",
       "172     NaN  "
      ]
     },
     "execution_count": 73,
     "metadata": {},
     "output_type": "execute_result"
    }
   ],
   "source": [
    "present_assistants[~present_assistants.login.isin(final_task_distribution.login)]"
   ]
  },
  {
   "cell_type": "code",
   "execution_count": null,
   "id": "33063968",
   "metadata": {},
   "outputs": [],
   "source": [
    "~final_task_distribution.login.isin(assistants_presence[assistants_presence.absence.isna()].login)"
   ]
  },
  {
   "cell_type": "code",
   "execution_count": null,
   "id": "364f3f3f",
   "metadata": {},
   "outputs": [],
   "source": [
    "final_task_distribution[final_task_distribution.login]"
   ]
  },
  {
   "cell_type": "code",
   "execution_count": null,
   "id": "7403cc1d",
   "metadata": {},
   "outputs": [],
   "source": [
    "df = assistants_presence.sort_values(['mo', 'login'])"
   ]
  },
  {
   "cell_type": "code",
   "execution_count": null,
   "id": "479e712c",
   "metadata": {},
   "outputs": [],
   "source": [
    "df[df.mo == 'ГП 218']"
   ]
  },
  {
   "cell_type": "code",
   "execution_count": null,
   "id": "58c04bb9",
   "metadata": {},
   "outputs": [],
   "source": [
    "additional_task_for_present_assistants_by_mo"
   ]
  },
  {
   "cell_type": "code",
   "execution_count": null,
   "id": "137c3af3",
   "metadata": {
    "scrolled": true
   },
   "outputs": [],
   "source": [
    "check_table"
   ]
  },
  {
   "cell_type": "code",
   "execution_count": null,
   "id": "54d91cc7",
   "metadata": {},
   "outputs": [],
   "source": [
    "patients_current_statuses[\n",
    "    (patients_current_statuses.mo == 'ГП 218') & (patients_current_statuses.status == 'Ни разу не звонили')].shape[0]"
   ]
  },
  {
   "cell_type": "code",
   "execution_count": null,
   "id": "f08cd704",
   "metadata": {},
   "outputs": [],
   "source": [
    "initial_task_for_today[initial_task_for_today.login == 'pomoshnik_pdn39']"
   ]
  },
  {
   "cell_type": "code",
   "execution_count": null,
   "id": "58e16946",
   "metadata": {},
   "outputs": [],
   "source": [
    "initial_assistant_to_patient_distribution_in_today_task[\n",
    "    initial_assistant_to_patient_distribution_in_today_task.login == 'pomoshnik_pdn130']"
   ]
  },
  {
   "cell_type": "code",
   "execution_count": null,
   "id": "72bf2427",
   "metadata": {},
   "outputs": [],
   "source": [
    "df_1 = patients_current_statuses.merge(assistant_to_doctor_distribution, on=['doctor_fio', 'mo'])"
   ]
  },
  {
   "cell_type": "code",
   "execution_count": null,
   "id": "77a490a6",
   "metadata": {},
   "outputs": [],
   "source": [
    "df_1.groupby(['mo', 'login']).agg({'emiasid': 'count'}).sort_values(['mo', 'emiasid'], ascending=False).to_excel(\n",
    "'изначальное распределение пациентов по помощникам.xlsx')"
   ]
  },
  {
   "cell_type": "code",
   "execution_count": null,
   "id": "e53fb0f6",
   "metadata": {},
   "outputs": [],
   "source": [
    "df_1[df_1.login == 'pomoshnik_pdn70'].status.value_counts()"
   ]
  },
  {
   "cell_type": "code",
   "execution_count": null,
   "id": "69c05014",
   "metadata": {},
   "outputs": [],
   "source": [
    "(assistant_to_doctor_distribution[\n",
    "    ~assistant_to_doctor_distribution.login.isin(\n",
    "    initial_assistant_to_patient_distribution_in_today_task.login)])[['login']].unique()"
   ]
  },
  {
   "cell_type": "code",
   "execution_count": null,
   "id": "dfce452a",
   "metadata": {},
   "outputs": [],
   "source": []
  },
  {
   "cell_type": "code",
   "execution_count": null,
   "id": "f521e292",
   "metadata": {},
   "outputs": [],
   "source": []
  },
  {
   "cell_type": "code",
   "execution_count": null,
   "id": "29b966b4",
   "metadata": {},
   "outputs": [],
   "source": []
  },
  {
   "cell_type": "code",
   "execution_count": null,
   "id": "2cb276c0",
   "metadata": {},
   "outputs": [],
   "source": []
  },
  {
   "cell_type": "code",
   "execution_count": null,
   "id": "d16388cc",
   "metadata": {},
   "outputs": [],
   "source": []
  },
  {
   "cell_type": "markdown",
   "id": "775681e9",
   "metadata": {},
   "source": [
    "# ПОИСК ПВ У КОТОРЫХ ЗАКАНЧИВАЕТСЯ ЗАДАНИЕ"
   ]
  },
  {
   "cell_type": "code",
   "execution_count": null,
   "id": "9a203b25",
   "metadata": {},
   "outputs": [],
   "source": [
    "df_1 = patients_current_statuses.merge(assistant_to_doctor_distribution, on=['doctor_fio', 'mo'])"
   ]
  },
  {
   "cell_type": "code",
   "execution_count": null,
   "id": "936277ff",
   "metadata": {},
   "outputs": [],
   "source": [
    "df_1.to_excel('emiasid_login_status.xlsx', index=False)"
   ]
  },
  {
   "cell_type": "code",
   "execution_count": null,
   "id": "419b7b2b",
   "metadata": {},
   "outputs": [],
   "source": [
    "df_2 = df_1[df_1.status == 'Ни разу не звонили']"
   ]
  },
  {
   "cell_type": "code",
   "execution_count": null,
   "id": "c09edea7",
   "metadata": {},
   "outputs": [],
   "source": [
    "df_3 = df_2.groupby('login').agg({'emiasid': 'count'}).reset_index()"
   ]
  },
  {
   "cell_type": "code",
   "execution_count": null,
   "id": "205358a4",
   "metadata": {},
   "outputs": [],
   "source": [
    "df_4 = df_3[df_3.emiasid < 86]"
   ]
  },
  {
   "cell_type": "code",
   "execution_count": null,
   "id": "b294ac7c",
   "metadata": {},
   "outputs": [],
   "source": [
    "df_4.shape[0]"
   ]
  },
  {
   "cell_type": "code",
   "execution_count": null,
   "id": "94cd735b",
   "metadata": {},
   "outputs": [],
   "source": [
    "df_5 = final_task_distribution_with_additional_task_for_low_occupied_assistants_for_today \\\n",
    "[final_task_distribution_with_additional_task_for_low_occupied_assistants_for_today.status == 'Ни разу не звонили']\\\n",
    ".groupby('login').agg({'emiasid': 'count'}).reset_index()"
   ]
  },
  {
   "cell_type": "code",
   "execution_count": null,
   "id": "91eaf138",
   "metadata": {},
   "outputs": [],
   "source": [
    "df_6 = df_4.merge(df_5, on='login')"
   ]
  },
  {
   "cell_type": "code",
   "execution_count": null,
   "id": "971ec02b",
   "metadata": {},
   "outputs": [],
   "source": [
    "df_6['delta'] = df_6.emiasid_x - df_6.emiasid_y"
   ]
  },
  {
   "cell_type": "code",
   "execution_count": null,
   "id": "b6196737",
   "metadata": {},
   "outputs": [],
   "source": [
    "df_6[df_6.delta <= 0][['login']].shape[0]"
   ]
  },
  {
   "cell_type": "code",
   "execution_count": null,
   "id": "99e7119e",
   "metadata": {},
   "outputs": [],
   "source": [
    "df_6[df_6.delta <= 0][['login']].to_excel('логины помощников, у которых сегодня закончится задание.xlsx', index=False)"
   ]
  },
  {
   "cell_type": "code",
   "execution_count": null,
   "id": "38d9bc94",
   "metadata": {},
   "outputs": [],
   "source": []
  },
  {
   "cell_type": "code",
   "execution_count": null,
   "id": "375c2066",
   "metadata": {},
   "outputs": [],
   "source": []
  },
  {
   "cell_type": "code",
   "execution_count": null,
   "id": "85f6447d",
   "metadata": {},
   "outputs": [],
   "source": [
    "data_1 = final_task_predistribution.groupby(['mo', 'login']).agg({'emiasid': 'count'}).sort_values(['mo', 'emiasid'], \n",
    "                                                                                                   ascending=False)"
   ]
  },
  {
   "cell_type": "code",
   "execution_count": null,
   "id": "f41bec11",
   "metadata": {},
   "outputs": [],
   "source": [
    "data_1[data_1.emiasid < 80].reset_index()[['login']].to_excel('пв с маленьким заданием.xlsx', index=False)"
   ]
  },
  {
   "cell_type": "code",
   "execution_count": null,
   "id": "20594d7a",
   "metadata": {},
   "outputs": [],
   "source": [
    "import pandas as pd"
   ]
  },
  {
   "cell_type": "code",
   "execution_count": null,
   "id": "2753daae",
   "metadata": {},
   "outputs": [],
   "source": [
    "fs = pd.read_excel('first_stage_august_final_task_distribution_2022_08_12.xlsx')"
   ]
  },
  {
   "cell_type": "code",
   "execution_count": null,
   "id": "16c0dcfe",
   "metadata": {},
   "outputs": [],
   "source": [
    "ss = pd.read_excel('second_stage_august_final_task_distribution_2022_08_12.xlsx')"
   ]
  },
  {
   "cell_type": "code",
   "execution_count": null,
   "id": "689d20a1",
   "metadata": {},
   "outputs": [],
   "source": []
  },
  {
   "cell_type": "code",
   "execution_count": null,
   "id": "f0cd83c1",
   "metadata": {},
   "outputs": [],
   "source": []
  },
  {
   "cell_type": "code",
   "execution_count": null,
   "id": "2be1cc03",
   "metadata": {},
   "outputs": [],
   "source": []
  },
  {
   "cell_type": "code",
   "execution_count": null,
   "id": "1afc937e",
   "metadata": {},
   "outputs": [],
   "source": [
    "common_file = pd.concat([fs, ss])"
   ]
  },
  {
   "cell_type": "code",
   "execution_count": null,
   "id": "b141a5da",
   "metadata": {},
   "outputs": [],
   "source": [
    "common_file = common_file.sort_values(by='priority')"
   ]
  },
  {
   "cell_type": "code",
   "execution_count": null,
   "id": "f2d0862a",
   "metadata": {},
   "outputs": [],
   "source": [
    "common_file.to_excel(rf'august_final_task_distribution_{today_y_m_d}.xlsx', index=False)"
   ]
  },
  {
   "cell_type": "code",
   "execution_count": null,
   "id": "e315a496",
   "metadata": {
    "scrolled": true
   },
   "outputs": [],
   "source": [
    "common_file"
   ]
  },
  {
   "cell_type": "code",
   "execution_count": null,
   "id": "0d5adad2",
   "metadata": {},
   "outputs": [],
   "source": [
    "still_big_task_mo_list = {'ГП 109', 'ГП 11', 'ГП 210', 'ДЦ 3', 'КДЦ 4'}"
   ]
  },
  {
   "cell_type": "code",
   "execution_count": null,
   "id": "c6e3b6e5",
   "metadata": {},
   "outputs": [],
   "source": [
    "still_big_task_mo_list"
   ]
  },
  {
   "cell_type": "code",
   "execution_count": null,
   "id": "d25fdbc6",
   "metadata": {},
   "outputs": [],
   "source": [
    "final_task = pd.DataFrame()\n",
    "for login in set(common_file.login):\n",
    "    final_task = pd.concat([\n",
    "        final_task, \n",
    "                            \n",
    "                           common_file[\n",
    "                               (common_file.login == login) \n",
    "                               &\n",
    "                               (~common_file.mo.isin(still_big_task_mo_list))\n",
    "                           ].sort_values(by='priority').head(85),\n",
    "                           \n",
    "                           common_file[\n",
    "                               (common_file.login == login) \n",
    "                               &\n",
    "                               (common_file.mo.isin(still_big_task_mo_list))\n",
    "                           ].sort_values(by='priority')                         \n",
    "                          \n",
    "                           ]\n",
    "                          \n",
    "                          )\n",
    "    "
   ]
  },
  {
   "cell_type": "code",
   "execution_count": null,
   "id": "ec032218",
   "metadata": {},
   "outputs": [],
   "source": [
    "%%time\n",
    "\n",
    "initial_task_for_today = pd.DataFrame()\n",
    "for login in set(initial_assistant_to_patient_distribution_in_today_task.login):\n",
    "\n",
    "\n",
    "    initial_task_for_today = pd.concat(\n",
    "        [initial_task_for_today, \n",
    "\n",
    "#          initial_assistant_to_patient_distribution_in_today_task[\n",
    "#              (initial_assistant_to_patient_distribution_in_today_task.login==login) \n",
    "#              & (initial_assistant_to_patient_distribution_in_today_task.mo.isin(still_big_task_mo_list))\n",
    "#          ].sort_values('priority').head((85 + call_back_number_for_login)),\n",
    "         \n",
    "         initial_assistant_to_patient_distribution_in_today_task[\n",
    "             (initial_assistant_to_patient_distribution_in_today_task.login==login) &\n",
    "             (~initial_assistant_to_patient_distribution_in_today_task.mo.isin(still_big_task_mo_list))\n",
    "         ].sort_values('priority').head(85),\n",
    "        \n",
    "       \n",
    "        ]).reset_index(drop=True)"
   ]
  },
  {
   "cell_type": "code",
   "execution_count": null,
   "id": "5162128f",
   "metadata": {},
   "outputs": [],
   "source": [
    "common_file.shape[0]"
   ]
  },
  {
   "cell_type": "code",
   "execution_count": null,
   "id": "6f1fdb70",
   "metadata": {},
   "outputs": [],
   "source": [
    "final_task.shape[0]"
   ]
  },
  {
   "cell_type": "code",
   "execution_count": null,
   "id": "6992d7cc",
   "metadata": {},
   "outputs": [],
   "source": []
  },
  {
   "cell_type": "code",
   "execution_count": null,
   "id": "53a503e6",
   "metadata": {},
   "outputs": [],
   "source": [
    "final_task.to_excel(rf'august_final_task_distribution.xlsx', index=False)"
   ]
  },
  {
   "cell_type": "code",
   "execution_count": null,
   "id": "b908a5c9",
   "metadata": {},
   "outputs": [],
   "source": [
    "f = pd.read_excel('august_final_task_distribution.xlsx')"
   ]
  },
  {
   "cell_type": "code",
   "execution_count": null,
   "id": "cda1ac13",
   "metadata": {},
   "outputs": [],
   "source": [
    "f.columns"
   ]
  },
  {
   "cell_type": "code",
   "execution_count": null,
   "id": "defb02fc",
   "metadata": {},
   "outputs": [],
   "source": [
    "f['emiasid'] = f['emiasid'].astype(str).str.replace('\\.0', '')"
   ]
  },
  {
   "cell_type": "code",
   "execution_count": null,
   "id": "d91f75a4",
   "metadata": {},
   "outputs": [],
   "source": [
    "f.to_excel(rf'august_final_task_distribution.xlsx', index=False)"
   ]
  },
  {
   "cell_type": "code",
   "execution_count": null,
   "id": "afa34581",
   "metadata": {},
   "outputs": [],
   "source": []
  }
 ],
 "metadata": {
  "kernelspec": {
   "display_name": "Python 3 (ipykernel)",
   "language": "python",
   "name": "python3"
  },
  "language_info": {
   "codemirror_mode": {
    "name": "ipython",
    "version": 3
   },
   "file_extension": ".py",
   "mimetype": "text/x-python",
   "name": "python",
   "nbconvert_exporter": "python",
   "pygments_lexer": "ipython3",
   "version": "3.10.4"
  }
 },
 "nbformat": 4,
 "nbformat_minor": 5
}

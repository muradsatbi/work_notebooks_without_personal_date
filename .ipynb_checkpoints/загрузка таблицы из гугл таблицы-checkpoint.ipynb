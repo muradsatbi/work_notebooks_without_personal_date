{
 "cells": [
  {
   "cell_type": "markdown",
   "id": "1a211bd5",
   "metadata": {},
   "source": [
    "написать отдельные функции:\n",
    "   - функция для загрузки файла из google drive\n",
    "   - функция для преобразования файла списка ПВ в датафрэйм"
   ]
  },
  {
   "cell_type": "code",
   "execution_count": null,
   "id": "beaed9da",
   "metadata": {},
   "outputs": [],
   "source": [
    "import gspread\n",
    "import gspread_dataframe as gd\n",
    "from gspread_dataframe import get_as_dataframe\n",
    "gc = gspread.service_account(filename='murad-satbi-1st-pro-1eefc3e3facd.json')"
   ]
  },
  {
   "cell_type": "code",
   "execution_count": null,
   "id": "2eb7cfd6",
   "metadata": {},
   "outputs": [],
   "source": [
    "url = 'https://docs.google.com/spreadsheets/d/1NjSj31vtZTj2D3tZgLf-SR7Mc978Zm_b8hmi3LO03q8/edit?usp=sharing'"
   ]
  },
  {
   "cell_type": "code",
   "execution_count": null,
   "id": "0e2de9e8",
   "metadata": {},
   "outputs": [],
   "source": [
    "sh = gc.open_by_url(url)"
   ]
  },
  {
   "cell_type": "code",
   "execution_count": null,
   "id": "362dbbbb",
   "metadata": {},
   "outputs": [],
   "source": [
    "ws = sh.get_worksheet(0)"
   ]
  },
  {
   "cell_type": "code",
   "execution_count": null,
   "id": "c647f305",
   "metadata": {},
   "outputs": [],
   "source": [
    "df = gd.get_as_dataframe(ws)"
   ]
  },
  {
   "cell_type": "code",
   "execution_count": null,
   "id": "c40861c6",
   "metadata": {},
   "outputs": [],
   "source": [
    "df"
   ]
  },
  {
   "cell_type": "code",
   "execution_count": null,
   "id": "009c758f",
   "metadata": {
    "scrolled": true
   },
   "outputs": [],
   "source": [
    "df1 = df.iloc[3:60, :7]\n",
    "df1"
   ]
  },
  {
   "cell_type": "code",
   "execution_count": null,
   "id": "f8f428cc",
   "metadata": {
    "scrolled": true
   },
   "outputs": [],
   "source": [
    "df1 = df1.dropna(how='all')"
   ]
  },
  {
   "cell_type": "code",
   "execution_count": null,
   "id": "0c9fd2af",
   "metadata": {
    "scrolled": true
   },
   "outputs": [],
   "source": [
    "df1 = df1.set_axis(range(7), 1).reset_index(drop=True).drop(columns=[0, 2])"
   ]
  },
  {
   "cell_type": "code",
   "execution_count": null,
   "id": "d103cd66",
   "metadata": {},
   "outputs": [],
   "source": [
    "df1"
   ]
  },
  {
   "cell_type": "code",
   "execution_count": null,
   "id": "0db172d6",
   "metadata": {},
   "outputs": [],
   "source": [
    "column_names = list(df1.iloc[0])"
   ]
  },
  {
   "cell_type": "code",
   "execution_count": null,
   "id": "59c81061",
   "metadata": {
    "scrolled": true
   },
   "outputs": [],
   "source": [
    "column_names"
   ]
  },
  {
   "cell_type": "code",
   "execution_count": null,
   "id": "71d4fd9b",
   "metadata": {},
   "outputs": [],
   "source": [
    "rows_to_delete = set(df1[df1[1] == 'Зал №'].index)"
   ]
  },
  {
   "cell_type": "code",
   "execution_count": null,
   "id": "8cec7f20",
   "metadata": {
    "scrolled": true
   },
   "outputs": [],
   "source": [
    "df1 = df1.drop(rows_to_delete)"
   ]
  },
  {
   "cell_type": "code",
   "execution_count": null,
   "id": "c88d551e",
   "metadata": {},
   "outputs": [],
   "source": [
    "df1 = df1.fillna(0).reset_index(drop=True)"
   ]
  },
  {
   "cell_type": "code",
   "execution_count": null,
   "id": "7e4e3d90",
   "metadata": {
    "scrolled": true
   },
   "outputs": [],
   "source": [
    "df1 = df1.set_axis(['hall_number', 'full_name', 'login', 'mo', 'present'], 1)"
   ]
  },
  {
   "cell_type": "code",
   "execution_count": null,
   "id": "979f0379",
   "metadata": {},
   "outputs": [],
   "source": [
    "df1"
   ]
  },
  {
   "cell_type": "code",
   "execution_count": null,
   "id": "a160b231",
   "metadata": {
    "scrolled": true
   },
   "outputs": [],
   "source": [
    "absent_pdn_list = set(df1[df1.present == 1].login)\n",
    "absent_pdn_list"
   ]
  },
  {
   "cell_type": "code",
   "execution_count": null,
   "id": "b4e87a19",
   "metadata": {},
   "outputs": [],
   "source": [
    "present = df1[df1.present == 0].login.count()\n",
    "present"
   ]
  },
  {
   "cell_type": "code",
   "execution_count": null,
   "id": "e9e16bf7",
   "metadata": {},
   "outputs": [],
   "source": [
    "total = len(absent_pdn_list) + present\n",
    "total"
   ]
  },
  {
   "cell_type": "code",
   "execution_count": null,
   "id": "e98e1661",
   "metadata": {},
   "outputs": [],
   "source": [
    "hall_numbers = set(df1['hall_number'])"
   ]
  },
  {
   "cell_type": "code",
   "execution_count": null,
   "id": "4c7790ac",
   "metadata": {
    "scrolled": false
   },
   "outputs": [],
   "source": [
    "hall_numbers"
   ]
  },
  {
   "cell_type": "code",
   "execution_count": null,
   "id": "05bf527e",
   "metadata": {},
   "outputs": [],
   "source": []
  },
  {
   "cell_type": "code",
   "execution_count": null,
   "id": "de190bc3",
   "metadata": {},
   "outputs": [],
   "source": []
  },
  {
   "cell_type": "code",
   "execution_count": null,
   "id": "3284de19",
   "metadata": {},
   "outputs": [],
   "source": []
  },
  {
   "cell_type": "code",
   "execution_count": null,
   "id": "92c119b5",
   "metadata": {},
   "outputs": [],
   "source": []
  },
  {
   "cell_type": "code",
   "execution_count": null,
   "id": "133d15e3",
   "metadata": {},
   "outputs": [],
   "source": []
  },
  {
   "cell_type": "code",
   "execution_count": null,
   "id": "cbc6c808",
   "metadata": {},
   "outputs": [],
   "source": [
    "df1[df1.hall_number == 507]"
   ]
  },
  {
   "cell_type": "code",
   "execution_count": null,
   "id": "bb36ce36",
   "metadata": {},
   "outputs": [],
   "source": [
    "df1[df1.hall_number == 508]"
   ]
  },
  {
   "cell_type": "code",
   "execution_count": null,
   "id": "f29d41f8",
   "metadata": {},
   "outputs": [],
   "source": [
    "df1[df1.hall_number == 509]"
   ]
  }
 ],
 "metadata": {
  "kernelspec": {
   "display_name": "Python 3 (ipykernel)",
   "language": "python",
   "name": "python3"
  },
  "language_info": {
   "codemirror_mode": {
    "name": "ipython",
    "version": 3
   },
   "file_extension": ".py",
   "mimetype": "text/x-python",
   "name": "python",
   "nbconvert_exporter": "python",
   "pygments_lexer": "ipython3",
   "version": "3.10.4"
  }
 },
 "nbformat": 4,
 "nbformat_minor": 5
}

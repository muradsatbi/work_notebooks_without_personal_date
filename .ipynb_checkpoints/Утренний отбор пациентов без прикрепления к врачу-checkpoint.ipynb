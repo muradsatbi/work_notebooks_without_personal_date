{
 "cells": [
  {
   "cell_type": "code",
   "execution_count": null,
   "id": "6186f60d",
   "metadata": {},
   "outputs": [],
   "source": [
    "import os\n",
    "import pandas as pd\n",
    "import datetime as dt\n",
    "import shutil"
   ]
  },
  {
   "cell_type": "code",
   "execution_count": null,
   "id": "42a25a96",
   "metadata": {},
   "outputs": [],
   "source": [
    "# получим директорию папки \"Загрузки\" в системе\n",
    "from pathlib import Path\n",
    "downloads_path = str(Path.home() / \"Downloads\")"
   ]
  },
  {
   "cell_type": "code",
   "execution_count": null,
   "id": "80bcd0d7",
   "metadata": {},
   "outputs": [],
   "source": [
    "# конечная папка для выгрузки ЕМИАС данных\n",
    "# вставляем между кавычек путь к этой папке на своем компьютере\n",
    "data_emias_xlsx_path = r'\\\\t999\\Сетевой диск\\pdn\\data\\emias_data\\xlsx'"
   ]
  },
  {
   "cell_type": "code",
   "execution_count": null,
   "id": "188fb7ad",
   "metadata": {},
   "outputs": [],
   "source": [
    "data_emias_xlsx_path = data_emias_xlsx_path.split('\\\\')\n",
    "data_emias_xlsx_path = os.path.join(r'\\\\', *data_emias_xlsx_path)"
   ]
  },
  {
   "cell_type": "code",
   "execution_count": null,
   "id": "45e56772",
   "metadata": {},
   "outputs": [],
   "source": [
    "today = dt.datetime.today().date()\n",
    "\n",
    "for file in os.listdir(downloads_path):\n",
    "    if '.xlsx' in file:\n",
    "        initial_file_path = os.path.join(downloads_path, file)\n",
    "        if 'DAT' in  file and today.strftime('%Y-%m-%d') in file:\n",
    "            final_file_path = os.path.join(data_emias_xlsx_path, f'{file[:58]}.xlsx')\n",
    "            shutil.move(initial_file_path, final_file_path)"
   ]
  },
  {
   "cell_type": "code",
   "execution_count": null,
   "id": "6d93bbd6",
   "metadata": {},
   "outputs": [],
   "source": []
  },
  {
   "cell_type": "code",
   "execution_count": null,
   "id": "58e719a9",
   "metadata": {},
   "outputs": [],
   "source": []
  },
  {
   "cell_type": "code",
   "execution_count": null,
   "id": "50522005",
   "metadata": {},
   "outputs": [],
   "source": [
    "import sys\n",
    "path_to_pdn = r\"C:\\Users\\murad_satabaev\\Documents\\GitHub\\pdn_\" # сюда внутри кавычек вставляем путь, где ледит репозиторий пдн\n",
    "sys.path.insert(0, path_to_pdn)"
   ]
  },
  {
   "cell_type": "code",
   "execution_count": null,
   "id": "780f9374",
   "metadata": {},
   "outputs": [],
   "source": [
    "import os\n",
    "import zipfile\n",
    "import datetime\n",
    "import numpy as np\n",
    "import pandas as pd\n",
    "from shutil import make_archive\n",
    "from pdn.utils.utils import get_filenames\n",
    "from pdn.configs.paths import EMIAS_SUBFOLDER_LOADS"
   ]
  },
  {
   "cell_type": "code",
   "execution_count": null,
   "id": "1801a9ed",
   "metadata": {},
   "outputs": [],
   "source": [
    "# cловарь \"номер_dat\": \"месяц\", в который мы добавляем список актуальных месяцев\n",
    "dat_month = dict()\n",
    "dat_month['may'] = '3196'\n",
    "dat_month['june'] = '3437'\n",
    "dat_month['july'] = '3582'"
   ]
  },
  {
   "cell_type": "code",
   "execution_count": null,
   "id": "94186015",
   "metadata": {},
   "outputs": [],
   "source": [
    "# задаем дату, за которую нужно проверить файлы, и ставим ее в нужный формат строки\n",
    "# date_ = datetime.date(2022, 7, 14)\n",
    "date_ = datetime.datetime.today().date()\n",
    "date_ymd = date_.strftime('%Y-%m-%d')\n",
    "date_y_m_d = date_.strftime('%Y_%m_%d')\n",
    "print(date_ymd)"
   ]
  },
  {
   "cell_type": "code",
   "execution_count": null,
   "id": "dc02a883",
   "metadata": {},
   "outputs": [],
   "source": [
    "# конечно, было бы хорошо заменить ввод даты на автоматическое считывание сегодняшней даты, но это будет реализовано после \n",
    "# того, как система в общем придет в динамическое спокойствие и весь код будет прописан\n",
    "datetime.datetime.now().date()\n",
    "# этот кусок кода вставить в переменную date_\n",
    "# пока он не нужен, не обращать на него внимания"
   ]
  },
  {
   "cell_type": "code",
   "execution_count": null,
   "id": "1dc6744f",
   "metadata": {},
   "outputs": [],
   "source": [
    "# получаем список файлов в папке EMIAS_SUBFOLDER_LOADS, в названии которых есть date_ymd\n",
    "file_list = get_filenames(EMIAS_SUBFOLDER_LOADS, date_ymd)\n",
    "print(*file_list)"
   ]
  },
  {
   "cell_type": "code",
   "execution_count": null,
   "id": "2f05f8e6",
   "metadata": {},
   "outputs": [],
   "source": [
    "# зададим путь папки для сохранения папок с файлами - для этого на место пути тут просто скопируйте свой путь из адроесной\n",
    "# строки и вставьте\n",
    "path = r'C:\\Users\\murad_satabaev\\Documents\\GitHub\\final_framework\\Утренний отбор пациентов без прикрепления к врачу'\n",
    "splitted_root_path = path.split('\\\\')\n",
    "root_path = os.path.join(splitted_root_path[0], os.sep, *splitted_root_path[1:])"
   ]
  },
  {
   "cell_type": "code",
   "execution_count": null,
   "id": "b26c2d98",
   "metadata": {},
   "outputs": [],
   "source": [
    "# если в системе нет папки с нужной датой, то данная ячейка создает ее и добавляет ее к пути\n",
    "export_path = os.path.join(root_path, date_.strftime('%Y%m%d'))\n",
    "\n",
    "if not os.path.isdir(export_path):\n",
    "    os.mkdir(os.path.join(root_path, date_.strftime('%Y%m%d')))"
   ]
  },
  {
   "cell_type": "code",
   "execution_count": null,
   "id": "fb8083fe",
   "metadata": {},
   "outputs": [],
   "source": [
    "# зададим список поликлиник, по которым нужно проверять наличие пациентов без прикрепления\n",
    "mo_to_check_set = set()\n",
    "mo_to_check_list = ['ГБУЗ \"ГП № 134 ДЗМ\"', 'ГБУЗ \"ГП № 218 ДЗМ\"', 'ГБУЗ \"ГП № 22 ДЗМ\"', 'ГБУЗ ГП № 191 ДЗМ', \n",
    "                   'ГБУЗ ГП № 220 ДЗМ','ГБУЗ ДКЦ 1 ДЗМ', 'КДЦ 4']\n",
    "for mo in mo_to_check_list: \n",
    "    mo_to_check_set.add(mo.replace('ГБУЗ', '').replace('№', '').replace('ДЗМ', '').replace('\"', '').replace('\"', '') \\\n",
    "    .strip().replace('  ', ' ').replace(' ', '_'))\n",
    "mo_to_check_set.add(np.NaN)"
   ]
  },
  {
   "cell_type": "code",
   "execution_count": null,
   "id": "b85ef5a2",
   "metadata": {},
   "outputs": [],
   "source": [
    "export_path"
   ]
  },
  {
   "cell_type": "code",
   "execution_count": null,
   "id": "b87175a7",
   "metadata": {
    "scrolled": true
   },
   "outputs": [],
   "source": [
    "mo_to_check_set"
   ]
  },
  {
   "cell_type": "code",
   "execution_count": null,
   "id": "ba96b2e5",
   "metadata": {
    "scrolled": true
   },
   "outputs": [],
   "source": [
    "# последний этап - формирование файлов по месяцамам и МО\n",
    "for file_path in file_list:\n",
    "        for month, dat  in dat_month.items():\n",
    "            if dat in file_path:                \n",
    "                \n",
    "                df = pd.read_excel(file_path)\n",
    "                df = df.rename(columns={'Умер': 'dead'})\n",
    "                df[['emiasid', 'Pol_number']] = df[['emiasid', 'Pol_number']].astype(str)\n",
    "                df = df[(df.dead == 'нет') & (df.doctor_fio.isna())]             \n",
    "                \n",
    "                mo_set = set(df.mo.unique())\n",
    "                mo_dict = dict()\n",
    "                for mo in mo_set:\n",
    "                    if not pd.isna(mo):\n",
    "                        mo_dict[mo] = mo.replace('ГБУЗ', '').replace('№', '').replace('ДЗМ', '').replace('\"', '') \\\n",
    "                        .replace('\"', '').strip().replace('  ', ' ').replace(' ', '_')\n",
    "                    else:\n",
    "                        mo_dict[mo] = mo               \n",
    "                for key, value in mo_dict.items():\n",
    "                    if value in mo_to_check_set:\n",
    "                        if pd.isna(value) and set(df.mo.isna()):\n",
    "                            df[df.mo.isna()].to_excel(os.path.join(export_path, f\"Пустое_mo_{month}_пустые_doctor_fio.xlsx\"),\n",
    "                                index=False)\n",
    "                        else:\n",
    "                            df[df.mo == key].to_excel(os.path.join(export_path, f\"{value}_{month}_пустые_doctor_fio.xlsx\"),\n",
    "                                index=False)"
   ]
  },
  {
   "cell_type": "code",
   "execution_count": null,
   "id": "472eded6",
   "metadata": {},
   "outputs": [],
   "source": [
    "########################################################################################################################"
   ]
  },
  {
   "cell_type": "code",
   "execution_count": null,
   "id": "10924868",
   "metadata": {},
   "outputs": [],
   "source": [
    "########################################################################################################################"
   ]
  },
  {
   "cell_type": "code",
   "execution_count": null,
   "id": "ae48544c",
   "metadata": {},
   "outputs": [],
   "source": [
    "folder_list = [file for file in os.listdir(root_path) if os.path.isdir(file) and '.' not in file]\n",
    "folder_list.sort()\n",
    "folder_list"
   ]
  },
  {
   "cell_type": "code",
   "execution_count": null,
   "id": "db6e2ff7",
   "metadata": {},
   "outputs": [],
   "source": [
    "try:\n",
    "    folder_day_before = folder_list[-2]\n",
    "    day_before_files = set(os.listdir(os.path.join(root_path, folder_day_before)))\n",
    "    day_before_files\n",
    "except IndexError:\n",
    "    exit()"
   ]
  },
  {
   "cell_type": "code",
   "execution_count": null,
   "id": "4cbe4942",
   "metadata": {},
   "outputs": [],
   "source": [
    "day_before_files"
   ]
  },
  {
   "cell_type": "code",
   "execution_count": null,
   "id": "d81e9665",
   "metadata": {
    "scrolled": false
   },
   "outputs": [],
   "source": [
    "folder_today = folder_list[-1]\n",
    "today_files = set(os.listdir(os.path.join(root_path, folder_today)))\n",
    "today_files"
   ]
  },
  {
   "cell_type": "code",
   "execution_count": null,
   "id": "f4577298",
   "metadata": {
    "scrolled": true
   },
   "outputs": [],
   "source": [
    "common_files = day_before_files & today_files\n",
    "common_files"
   ]
  },
  {
   "cell_type": "code",
   "execution_count": null,
   "id": "b990981d",
   "metadata": {
    "scrolled": true
   },
   "outputs": [],
   "source": [
    "for file_name in common_files:\n",
    "    day_before = pd.read_excel(os.path.join(root_path, folder_day_before, file_name))\n",
    "    day_before.emiasid = day_before.emiasid.astype(str).str.replace('\\.0', '')\n",
    "    today = pd.read_excel(os.path.join(root_path, folder_today, file_name))\n",
    "    today.emiasid = today.emiasid.astype(str).str.replace('\\.0', '')\n",
    "    result = today[today.emiasid.isin(day_before.emiasid)]\n",
    "    result[['emiasid', 'Pol_number']] = result[['emiasid', 'Pol_number']].astype(str)\n",
    "    if result.shape[0] > 0:\n",
    "        result.to_excel(os.path.join(root_path, f'{file_name[:-5]}_{date_y_m_d}{file_name[-5:]}'), index=False)"
   ]
  },
  {
   "cell_type": "code",
   "execution_count": null,
   "id": "ab777f2a",
   "metadata": {},
   "outputs": [],
   "source": [
    "# exit()"
   ]
  }
 ],
 "metadata": {
  "kernelspec": {
   "display_name": "Python 3 (ipykernel)",
   "language": "python",
   "name": "python3"
  },
  "language_info": {
   "codemirror_mode": {
    "name": "ipython",
    "version": 3
   },
   "file_extension": ".py",
   "mimetype": "text/x-python",
   "name": "python",
   "nbconvert_exporter": "python",
   "pygments_lexer": "ipython3",
   "version": "3.10.4"
  }
 },
 "nbformat": 4,
 "nbformat_minor": 5
}
